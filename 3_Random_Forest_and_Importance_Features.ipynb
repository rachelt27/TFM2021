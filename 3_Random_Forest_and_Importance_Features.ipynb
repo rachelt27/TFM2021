{
 "cells": [
  {
   "cell_type": "code",
   "execution_count": 1,
   "metadata": {},
   "outputs": [],
   "source": [
    "#Importing all packages needed \n",
    "#1) Fundatmental \n",
    "import pandas as pd\n",
    "import numpy as np\n",
    "\n",
    "#2) Preprocessing \n",
    "from sklearn import preprocessing\n",
    "from sklearn.preprocessing import MinMaxScaler\n",
    "from sklearn.impute import KNNImputer\n",
    "from sklearn.impute import SimpleImputer\n",
    "import imblearn\n",
    "\n",
    "#3) Model \n",
    "from sklearn.ensemble import RandomForestClassifier\n",
    "\n",
    "#4) Validation  \n",
    "from sklearn.model_selection import LeaveOneOut\n",
    "\n",
    "#5) Performance metrics  \n",
    "from sklearn.metrics import roc_auc_score, confusion_matrix,accuracy_score\n",
    "\n",
    "#6) Custom Functions\n",
    "#!pip install ipynb\n",
    "from ipynb.fs.full.Functions import *\n",
    "\n",
    "\n",
    "import warnings\n",
    "warnings.filterwarnings(\"ignore\")"
   ]
  },
  {
   "cell_type": "markdown",
   "metadata": {},
   "source": [
    "# 1. Dataset 1 - Battery Tests"
   ]
  },
  {
   "cell_type": "code",
   "execution_count": 2,
   "metadata": {},
   "outputs": [],
   "source": [
    "#Reading in the dataset\n",
    "data=pd.read_excel(open(\"biomarkers.xlsx\",'rb'))\n",
    "#Removing the groups that are not needed \n",
    "data=data[data['biodiag'] < 5]\n",
    "\n",
    "#Taking the columns that are needed \n",
    "data_class=data[[\"edad\",\n",
    "\"años_escol\",\n",
    "\"Sexo\",\n",
    "\"biodiag\",\n",
    "\"APOE\",\n",
    "\"t_tau\",\n",
    "\"p_tau\",\n",
    "\"AB_42_TUB_B\",                \n",
    "\"buschke_AL\",\n",
    "\"buschke_AT\",\n",
    "\"buschke_RDL\",\n",
    "\"buschke_RDT\",\n",
    "\"tam\",\n",
    "\"vis_cerad\",\n",
    "\"paisajes_tot\",\n",
    "\"bnt\",\n",
    "\"flu_anim\",\n",
    "\"compren\",\n",
    "\"ideom\",\n",
    "\"prax_cerad\",\n",
    "\"tdp\",\n",
    "\"VOSP_num\",\n",
    "\"VOSP_letras\",\n",
    "\"tmtA\",\n",
    "\"tmtB\",\n",
    "\"fas_total\",\n",
    "\"Stroop_lect\",\n",
    "\"Stroop_color\",\n",
    "\"Stroop_I\",\n",
    "\"Clave_num\"]]"
   ]
  },
  {
   "cell_type": "markdown",
   "metadata": {},
   "source": [
    "# A. Creating Baseline Estimate\n",
    "\n",
    "The classification that we are interested in, *Preclinical* vs *Control*, by definition are divided depending on the values of the biomarkers, namely phosphorylated tau (*p_tau*) and Beta-amyloid (*AB_42_TUB_B*). \n",
    "\n",
    "Therefore to have a benchmark of the classification, we use these aforementioned variables as features to make the classification between the two groups *Control* and *Preclinical*. \n",
    "\n",
    "For completeness we also report the classification of the other groups in this dataset, in particular, *Prodromal(MCI)* vs *Control*.\n",
    "\n",
    "It seems our model is effective with an accuracy of 0.971, auc of 0.94 The sensitivity is 0.88, meaning that the model is capable of identifying patients with preclinical Alzheimer's Disease at a rate of 0.88. On the other hand the specificity of 1, meaning the model is predicting it 100% of the time."
   ]
  },
  {
   "cell_type": "code",
   "execution_count": 26,
   "metadata": {},
   "outputs": [
    {
     "name": "stdout",
     "output_type": "stream",
     "text": [
      "For control vs AD preclinical the accuracy is 0.971 and the auc is 0.940\n",
      "For control vs AD preclinical the sensitivity is 0.880 and the specificity is 1.000\n",
      "       feature  importance\n",
      "1  AB_42_TUB_B    0.738576\n",
      "0        p_tau    0.261424\n",
      "For control vs AD prodromal the accuracy is 1.000 and the auc is 1.000\n",
      "For control vs AD prodromal the sensitivity is 1.000 and the specificity is 1.000\n",
      "       feature  importance\n",
      "1  AB_42_TUB_B    0.682178\n",
      "0        p_tau    0.317822\n"
     ]
    }
   ],
   "source": [
    "#Creating a dataset with the relevant features phosphorylated tau (p_tau) and Beta-amyloid (AB_42_TUB_B), along with the grouping\n",
    "data_baseline=data_class[[\"biodiag\",\"p_tau\",\"AB_42_TUB_B\"]]\n",
    "\n",
    "#1)Preclinical vs Control \n",
    "#Keeping only the subject in the control(1) and preclinical groups(2)\n",
    "data_model=data_baseline.loc[data_baseline['biodiag'].isin([1,2])]\n",
    "#Calling the function data_prep to further prepare the dataset:\n",
    "#One hot encodes the group variable (biodiag)\n",
    "#Splits the data into X and y, and turns then into the desired format, an array. \n",
    "X,y,coulmnNames=data_prep(data_model)\n",
    "#Call the function featureimportance to run the model\n",
    "acc, roc_auc, featureImportance,sensitivity,specificity=featureimportance(X,y,RandomForestClassifier(random_state=1),MinMaxScaler,KNNImputer)\n",
    "print(\"For control vs AD preclinical the accuracy is %.3f and the auc is %.3f\" % (acc, roc_auc))\n",
    "print(\"For control vs AD preclinical the sensitivity is %.3f and the specificity is %.3f\" % (sensitivity, specificity))\n",
    "print_importance(featureImportance,coulmnNames)\n",
    "\n",
    "\n",
    "#2)Prodromal(MCI) vs Control \n",
    "#Keeping only the subject in the control(1) and prodromal groups(3)\n",
    "data_model=data_baseline.loc[data_baseline['biodiag'].isin([1,3])]\n",
    "#Calling the function data_prep to further prepare the dataset:\n",
    "#One hot encodes the group variable (biodiag)\n",
    "#Splits the data into X and y, and turns then into the desired format, an array. \n",
    "X,y,coulmnNames=data_prep(data_model)\n",
    "#Call the function featureimportance to run the model\n",
    "acc, roc_auc, featureImportance,sensitivity,specificity=featureimportance(X,y,RandomForestClassifier(random_state=1),MinMaxScaler,KNNImputer)\n",
    "print(\"For control vs AD prodromal the accuracy is %.3f and the auc is %.3f\" % (acc, roc_auc))\n",
    "print(\"For control vs AD prodromal the sensitivity is %.3f and the specificity is %.3f\" % (sensitivity, specificity))\n",
    "print_importance(featureImportance,coulmnNames)"
   ]
  },
  {
   "cell_type": "markdown",
   "metadata": {},
   "source": [
    "# B. Battery Tests\n",
    "\n",
    "Next we run the model on the battery tests to see if there are any effective tests at differentiating between the groups *Preclinical* and *Control*\n",
    "\n",
    "We find that with an accuracy of 0.743 and auc of 0.570, the model is not successful at distinguishing between *Preclinical* subjects and healthy people. The sensitivity is also very low indicating that the features are not sensitive enough at detecting *Preclinical* subjects.\n",
    "\n",
    "The model is however successful for the classification of prodromal/MCI subjects and control, with an accuracy of 0.919 and AUC of 0.894."
   ]
  },
  {
   "cell_type": "code",
   "execution_count": 4,
   "metadata": {},
   "outputs": [
    {
     "name": "stdout",
     "output_type": "stream",
     "text": [
      "For control vs AD preclinical the accuracy is 0.771 and the auc is 0.561\n",
      "For control vs AD preclinical the sensitivity is 0.160 and the specificity is 0.963\n",
      "         feature  importance\n",
      "22  Stroop_color    0.086022\n",
      "5    buschke_RDL    0.085814\n",
      "18          tmtA    0.063972\n",
      "4     buschke_AT    0.059640\n",
      "3     buschke_AL    0.059539\n",
      "10           bnt    0.058305\n",
      "0           edad    0.056946\n",
      "7            tam    0.056600\n",
      "9   paisajes_tot    0.053669\n",
      "19          tmtB    0.048528\n",
      "21   Stroop_lect    0.047191\n",
      "20     fas_total    0.041240\n",
      "24     Clave_num    0.040516\n",
      "23      Stroop_I    0.040143\n",
      "11      flu_anim    0.034117\n",
      "1     años_escol    0.030248\n",
      "16      VOSP_num    0.029152\n",
      "8      vis_cerad    0.029130\n",
      "6    buschke_RDT    0.028984\n",
      "17   VOSP_letras    0.015064\n",
      "15           tdp    0.014456\n",
      "14    prax_cerad    0.013628\n",
      "2           Sexo    0.006559\n",
      "12       compren    0.000537\n",
      "13         ideom    0.000000\n",
      "For control vs AD prodromal the accuracy is 0.919 and the auc is 0.894\n",
      "For control vs AD prodromal the sensitivity is 0.975 and the specificity is 0.814\n",
      "         feature  importance\n",
      "3     buschke_AL    0.166128\n",
      "5    buschke_RDL    0.139120\n",
      "8      vis_cerad    0.127657\n",
      "4     buschke_AT    0.108911\n",
      "7            tam    0.103686\n",
      "6    buschke_RDT    0.093497\n",
      "23      Stroop_I    0.050404\n",
      "19          tmtB    0.031936\n",
      "18          tmtA    0.023803\n",
      "9   paisajes_tot    0.023218\n",
      "11      flu_anim    0.022465\n",
      "22  Stroop_color    0.018674\n",
      "24     Clave_num    0.016185\n",
      "0           edad    0.013354\n",
      "21   Stroop_lect    0.013309\n",
      "10           bnt    0.010017\n",
      "20     fas_total    0.009736\n",
      "1     años_escol    0.007981\n",
      "17   VOSP_letras    0.005561\n",
      "15           tdp    0.004018\n",
      "12       compren    0.003832\n",
      "14    prax_cerad    0.003565\n",
      "16      VOSP_num    0.001765\n",
      "2           Sexo    0.001022\n",
      "13         ideom    0.000156\n"
     ]
    }
   ],
   "source": [
    "#Preparing the data\n",
    "#dropping the biomarkers that should not be used in this model\n",
    "feat_select=data_class.drop([\"APOE\",\"t_tau\",\"p_tau\",\"AB_42_TUB_B\"],axis=1)\n",
    "\n",
    "#1)Preclinical vs Control \n",
    "#Keeping only the subject in the control(1) and preclinical groups(2)\n",
    "data_model=feat_select.loc[feat_select['biodiag'].isin([1,2])]\n",
    "#Calling the function data_prep to further prepare the dataset:\n",
    "#One hot encodes the group variable (biodiag)\n",
    "#Splits the data into X and y, and turns then into the desired format, an array\n",
    "X,y,coulmnNames=data_prep(data_model)\n",
    "#Call the function featureimportance to run the model\n",
    "acc, roc_auc, featureImportance,sensitivity,specificity=featureimportance(X,y,RandomForestClassifier(random_state=1,min_samples_leaf=2),MinMaxScaler,KNNImputer)\n",
    "print(\"For control vs AD preclinical the accuracy is %.3f and the auc is %.3f\" % (acc, roc_auc))\n",
    "print(\"For control vs AD preclinical the sensitivity is %.3f and the specificity is %.3f\" % (sensitivity, specificity))\n",
    "print_importance(featureImportance,coulmnNames)\n",
    "\n",
    "\n",
    "\n",
    "#2)Prodromal vs Control \n",
    "#Keeping only the subject in the control(1) and prodromal groups(3)\n",
    "data_model=feat_select.loc[feat_select['biodiag'].isin([1,3])]\n",
    "#Calling the function data_prep to further prepare the dataset:\n",
    "#One hot encodes the group variable (biodiag)\n",
    "#Splits the data into X and y, and turns then into the desired format, an array\n",
    "X,y,coulmnNames=data_prep(data_model)\n",
    "#Call the function featureimportance to run the model\n",
    "acc, roc_auc, featureImportance,sensitivity,specificity=featureimportance(X,y,RandomForestClassifier(random_state=1),MinMaxScaler,KNNImputer)\n",
    "print(\"For control vs AD prodromal the accuracy is %.3f and the auc is %.3f\" % (acc, roc_auc))\n",
    "print(\"For control vs AD prodromal the sensitivity is %.3f and the specificity is %.3f\" % (sensitivity, specificity))\n",
    "print_importance(featureImportance,coulmnNames)"
   ]
  },
  {
   "cell_type": "markdown",
   "metadata": {},
   "source": [
    "# 2. Dataset 2 - Tapping Features"
   ]
  },
  {
   "cell_type": "code",
   "execution_count": 28,
   "metadata": {},
   "outputs": [],
   "source": [
    "#Reading in the dataset\n",
    "data=pd.read_spss(\"FTT.sav\")  \n",
    "\n",
    "#Taking the columns that are needed \n",
    "data_class=data[['groups','P_TAU','AB42','FTT_rate','FTT_variability_total_Log10','age', 'gender','education','AL','AT','RD','RDT','BNT','ANIMALES','VOSP_NUM','TMT_A','TMT_B','STROOP_COLOR','STROOP_INT','SDMT',\"PL_FTT_time_interval\"]]\n",
    "\n",
    "#Renaming the group name to biodiag to match the previous dataset1 and numbering also in the same way\n",
    "data_class = data_class.rename(columns={'groups': 'biodiag'})\n",
    "data_class['biodiag'] = data_class['biodiag'].replace({\"grupo control\":1, \"grupo preclinico\":2, \"grupo con EA\":3})\n",
    "\n",
    "#Turning gender into binary \n",
    "data_class['gender'] = data_class['gender'].replace({\"male\":1, \"female\":0})"
   ]
  },
  {
   "cell_type": "markdown",
   "metadata": {},
   "source": [
    "# A. Creating Baseline Estimate\n",
    "\n",
    "The classification that we are interested in, *Preclinical* vs *Control*, by definition are divided depending on the values of the biomarkers, namely phosphorylated tau (*p_tau*) and Beta-amyloid (*AB_42_TUB_B*). \n",
    "\n",
    "Therefore to have a benchmark of the classification, we use these aforementioned variables as features to make the classification between the two groups *Control* and *Preclinical*. \n",
    "\n",
    "Unlike the previous dataset 1, we do not have the groups for *Prodromal(MCI)* and thus can not preform the classification.  \n",
    "\n",
    "It seems our model is effective with an accuracy of 0.965, auc of 0.961 The sensitivity is 0.95, meaning that the model is capable of identifying patients with preclinical Alzheimer's Disease at a rate of 0.95. On the other hand the specificity is higher at 0.973, this is likely because the dataset is imbalanced with a greater number of *Control* subjects. "
   ]
  },
  {
   "cell_type": "code",
   "execution_count": 29,
   "metadata": {},
   "outputs": [
    {
     "name": "stdout",
     "output_type": "stream",
     "text": [
      "For control vs AD preclinical the accuracy is 0.965 and the auc is 0.961\n",
      "For control vs AD preclinical the sensitivity is 0.950 and the specificity is 0.973\n",
      "  feature  importance\n",
      "1    AB42    0.825638\n",
      "0   P_TAU    0.174362\n"
     ]
    }
   ],
   "source": [
    "#Preparing the data\n",
    "#Creating a dataset with the relevant features phosphorylated tau (p_tau) and Beta-amyloid (AB_42_TUB_B), along with the grouping\n",
    "data_baseline=data_class[[\"biodiag\",\"P_TAU\",\"AB42\"]]\n",
    "\n",
    "#1)Preclinical vs Control \n",
    "#Keeping only the subject in the control(1) and preclinical groups(2)\n",
    "data_model=data_baseline.loc[data_baseline['biodiag'].isin([1,2])]\n",
    "#Calling the function data_prep to further prepare the dataset:\n",
    "#One hot encodes the group variable (biodiag)\n",
    "#Splits the data into X and y, and turns then into the desired format, an array. \n",
    "X,y,coulmnNames=data_prep(data_model)\n",
    "#Call the function featureimportance to run the model\n",
    "acc, roc_auc, featureImportance,sensitivity,specificity=featureimportance(X,y,RandomForestClassifier(random_state=1),MinMaxScaler,KNNImputer)\n",
    "print(\"For control vs AD preclinical the accuracy is %.3f and the auc is %.3f\" % (acc, roc_auc))\n",
    "print(\"For control vs AD preclinical the sensitivity is %.3f and the specificity is %.3f\" % (sensitivity, specificity))\n",
    "print_importance(featureImportance,coulmnNames)\n"
   ]
  },
  {
   "cell_type": "markdown",
   "metadata": {},
   "source": [
    "# B. Battery Tests\n",
    "\n",
    "Next we run the model on the battery tests to see if there are any effective tests at differenciating between the groups *Preclinical* and *Control*\n",
    "\n",
    "Similar to dataset 1, we find that bettery tests are not sensitive enough at detecting *Preclinical* subjects, with an accuracy of 0.579 and AUC 0.480. The sensitivity is also extremely low at 0.150."
   ]
  },
  {
   "cell_type": "code",
   "execution_count": 30,
   "metadata": {},
   "outputs": [
    {
     "name": "stdout",
     "output_type": "stream",
     "text": [
      "For control vs AD preclinical the accuracy is 0.579 and the auc is 0.480\n",
      "For control vs AD preclinical the sensitivity is 0.150 and the specificity is 0.811\n",
      "         feature  importance\n",
      "12  STROOP_COLOR    0.113479\n",
      "0            age    0.106899\n",
      "11         TMT_B    0.098043\n",
      "4             AT    0.076416\n",
      "14          SDMT    0.075178\n",
      "10         TMT_A    0.073879\n",
      "13    STROOP_INT    0.073269\n",
      "3             AL    0.062477\n",
      "2      education    0.058677\n",
      "8       ANIMALES    0.057102\n",
      "6            RDT    0.055249\n",
      "5             RD    0.051456\n",
      "7            BNT    0.048297\n",
      "9       VOSP_NUM    0.039486\n",
      "1         gender    0.010092\n"
     ]
    }
   ],
   "source": [
    "#Preparing the data\n",
    "#dropping the biomarkers and tapping features that are not battery tests\n",
    "feat_select=data_class.drop([\"P_TAU\",\"AB42\",\"FTT_variability_total_Log10\",\"FTT_rate\",\"PL_FTT_time_interval\"],axis=1)\n",
    "\n",
    "#1)Preclinical vs Control \n",
    "#Keeping only the subject in the control(1) and preclinical groups(2)\n",
    "data_model=feat_select.loc[feat_select['biodiag'].isin([1,2])]\n",
    "#Calling the function data_prep to further prepare the dataset:\n",
    "#One hot encodes the group variable (biodiag)\n",
    "#Splits the data into X and y, and turns then into the desired format, an array\n",
    "X,y,coulmnNames=data_prep(data_model)\n",
    "#Call the function featureimportance to run the model\n",
    "acc, roc_auc, featureImportance,sensitivity,specificity=featureimportance(X,y,RandomForestClassifier(random_state=1),MinMaxScaler,KNNImputer)\n",
    "print(\"For control vs AD preclinical the accuracy is %.3f and the auc is %.3f\" % (acc, roc_auc))\n",
    "print(\"For control vs AD preclinical the sensitivity is %.3f and the specificity is %.3f\" % (sensitivity, specificity))\n",
    "print_importance(featureImportance,coulmnNames)\n"
   ]
  },
  {
   "cell_type": "markdown",
   "metadata": {},
   "source": [
    "# C. Tapping Features\n",
    "\n",
    "Next we run the model on the tapping features to see if there are any effective tests at differentiating between the groups *Preclinical* and *Control*\n",
    "\n",
    "We see a much better performance with an accuracy of 0.772 and AUC of 0.721, indicating that the tapping features are more successful at identifying the *Preclinical* subjects. However the sensitivity is still low, but this is because the dataset is imbalanced. We need to correct the imbalanced nature to improve the performance. We see that the interval between taps was the most important feature, while the rate was the least important feature. "
   ]
  },
  {
   "cell_type": "code",
   "execution_count": 31,
   "metadata": {},
   "outputs": [
    {
     "name": "stdout",
     "output_type": "stream",
     "text": [
      "For control vs AD preclinical the accuracy is 0.772 and the auc is 0.721\n",
      "For control vs AD preclinical the sensitivity is 0.550 and the specificity is 0.892\n",
      "                       feature  importance\n",
      "1         PL_FTT_time_interval    0.427960\n",
      "0  FTT_variability_total_Log10    0.300289\n",
      "2                     FTT_rate    0.271751\n"
     ]
    }
   ],
   "source": [
    "#Preparing the data\n",
    "#dropping the biomarkers that should not be used in this model\n",
    "#feat_select=data_class.drop([\"P_TAU\",\"AB42\",\"STROOP_LECT\",\"gender\",\"ANIMALES\",\"RDT\",\"VOSP_NUM\",\"education\",\"AL\",\"RD\",\"BNT\",\"AT\",\"TMT_A\"],axis=1)\n",
    "feat_select=data_class[[\"biodiag\",\"FTT_variability_total_Log10\",\"PL_FTT_time_interval\",\"FTT_rate\"]]\n",
    "\n",
    "#1)Preclinical vs Control \n",
    "#Keeping only the subject in the control(1) and preclinical groups(2)\n",
    "data_model=feat_select.loc[feat_select['biodiag'].isin([1,2])]\n",
    "#Calling the function data_prep to further prepare the dataset:\n",
    "#One hot encodes the group variable (biodiag)\n",
    "#Splits the data into X and y, and turns then into the desired format, an array\n",
    "X,y,coulmnNames=data_prep(data_model)\n",
    "#Call the function featureimportance to run the model\n",
    "acc, roc_auc, featureImportance,sensitivity,specificity=featureimportance(X,y,RandomForestClassifier(random_state=1),MinMaxScaler,KNNImputer)\n",
    "print(\"For control vs AD preclinical the accuracy is %.3f and the auc is %.3f\" % (acc, roc_auc))\n",
    "print(\"For control vs AD preclinical the sensitivity is %.3f and the specificity is %.3f\" % (sensitivity, specificity))\n",
    "print_importance(featureImportance,coulmnNames)\n"
   ]
  }
 ],
 "metadata": {
  "kernelspec": {
   "display_name": "Python 3",
   "language": "python",
   "name": "python3"
  },
  "language_info": {
   "codemirror_mode": {
    "name": "ipython",
    "version": 3
   },
   "file_extension": ".py",
   "mimetype": "text/x-python",
   "name": "python",
   "nbconvert_exporter": "python",
   "pygments_lexer": "ipython3",
   "version": "3.8.5"
  }
 },
 "nbformat": 4,
 "nbformat_minor": 4
}
