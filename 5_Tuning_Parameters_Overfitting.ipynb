{
 "cells": [
  {
   "cell_type": "code",
   "execution_count": 2,
   "metadata": {},
   "outputs": [],
   "source": [
    "#Importing all packages needed \n",
    "#1) Fundatmental \n",
    "import pandas as pd\n",
    "import numpy as np\n",
    "\n",
    "#2) Preprocessing \n",
    "from sklearn import preprocessing\n",
    "from sklearn.preprocessing import MinMaxScaler\n",
    "from sklearn.impute import KNNImputer\n",
    "import imblearn\n",
    "from imblearn.over_sampling import SMOTE\n",
    "from imblearn.over_sampling import SMOTENC\n",
    "\n",
    "#3) Model \n",
    "from sklearn.ensemble import RandomForestClassifier\n",
    "from sklearn.model_selection import ParameterGrid\n",
    "from sklearn.model_selection import GridSearchCV\n",
    "\n",
    "#4) Validation  \n",
    "from sklearn.model_selection import LeaveOneOut\n",
    "\n",
    "#5) Performance metrics  \n",
    "from sklearn.metrics import roc_auc_score, accuracy_score\n",
    "\n",
    "#6) Graph\n",
    "import matplotlib.pyplot as plt \n",
    "\n",
    "#7) Custom Functions\n",
    "#!pip install ipynb\n",
    "from ipynb.fs.full.Functions import *\n",
    "\n",
    "import warnings\n",
    "warnings.filterwarnings(\"ignore\")\n"
   ]
  },
  {
   "cell_type": "code",
   "execution_count": 10,
   "metadata": {},
   "outputs": [],
   "source": [
    "#Reading in the dataset\n",
    "data=pd.read_spss(\"FTT.sav\")  \n",
    "\n",
    "#Taking the columns that are needed \n",
    "data_class=data[['groups','P_TAU','AB42','FTT_rate','FTT_variability_total_Log10','age', 'gender','education','AL','AT','RD','RDT','BNT','ANIMALES','VOSP_NUM','TMT_A','TMT_B','STROOP_LECT','STROOP_COLOR','STROOP_INT','SDMT',\"PL_FTT_time_interval\"]]\n",
    "\n",
    "#Renaming the group name to biodiag to match the previous dataset1 and numbering also in the same way\n",
    "data_class = data_class.rename(columns={'groups': 'biodiag'})\n",
    "data_class['biodiag'] = data_class['biodiag'].replace({\"grupo control\":1, \"grupo preclinico\":2, \"grupo con EA\":3})\n",
    "\n",
    "#Creating a dataframe for tapping features only\n",
    "feat_select=data_class[[\"biodiag\",\"FTT_variability_total_Log10\",\"PL_FTT_time_interval\",\"FTT_rate\"]]\n",
    "\n",
    "#1)Preclinical vs Control \n",
    "#Keeping only the subject in the control(1) and preclinical groups(2)\n",
    "data_model=feat_select.loc[feat_select['biodiag'].isin([1,2])]\n",
    "#Making lables binary\n",
    "factor = pd.factorize(data_model['biodiag'])\n",
    "data_model.biodiag = factor[0]\n",
    "\n",
    "#Normalizing data\n",
    "scaler = MinMaxScaler()\n",
    "data_model = pd.DataFrame(scaler.fit_transform(data_model), columns = data_model.columns)\n",
    "imputer = KNNImputer(n_neighbors=5)\n",
    "#Imputing missing values with knn\n",
    "data_model = pd.DataFrame(imputer.fit_transform(data_model),columns = data_model.columns)\n",
    "y = data_model.loc[:, data_model.columns == \"biodiag\"]\n",
    "X=data_model.loc[:, data_model.columns != \"biodiag\"]"
   ]
  },
  {
   "cell_type": "markdown",
   "metadata": {},
   "source": [
    "# 1. Grid Search"
   ]
  },
  {
   "cell_type": "markdown",
   "metadata": {},
   "source": [
    "First we do a gridsearch to investigate if we can improve our model performance. We do this on 4 parameters taht are commonly associated with overfitting, namely, *n_estimators*, *max_depth*, *criterion*, *min_samples_leaf*. "
   ]
  },
  {
   "cell_type": "code",
   "execution_count": 4,
   "metadata": {},
   "outputs": [],
   "source": [
    "#Setting up the parameter space for the grid search\n",
    "n_estimators = [int(x) for x in np.linspace(start = 10, stop = 300, num = 30)]\n",
    "max_depth = [4,5,6,7,8]+[int(x) for x in np.linspace(10, 110, num = 11)]\n",
    "max_depth.append(None)\n",
    "criterion =['gini', 'entropy']\n",
    "min_samples_leaf = [1, 2, 4]\n",
    "\n",
    "#combining the parameters\n",
    "random_grid = {'n_estimators': n_estimators,\n",
    "               'max_depth': max_depth,\n",
    "               'min_samples_leaf': min_samples_leaf,\n",
    "               'criterion': criterion}"
   ]
  },
  {
   "cell_type": "code",
   "execution_count": 40,
   "metadata": {},
   "outputs": [
    {
     "name": "stdout",
     "output_type": "stream",
     "text": [
      "{'criterion': 'entropy', 'max_depth': 50, 'min_samples_leaf': 1, 'n_estimators': 10}\n",
      "0.815\n"
     ]
    }
   ],
   "source": [
    "#Setting the model \n",
    "clf=RandomForestClassifier()\n",
    "\n",
    "#Defining leave one out cross validation\n",
    "def LeaveOneOut_predict_proba(clf, X, y, i):\n",
    "    clf.fit(X.drop(i), y.drop(i))\n",
    "    return clf.predict_proba(X.loc[[i]])[0, 1]\n",
    "\n",
    "#Performing the grid search\n",
    "#defining resulting values to initiate \n",
    "best_params=list()\n",
    "final_roc_auc_score=0\n",
    "#Getting all sets of parameters in the parameter space as defined above \n",
    "#For each parameter set computing the AUC and finally returning the optimal value\n",
    "for params in ParameterGrid(random_grid):\n",
    "    clf.set_params(**params)\n",
    "    y_proba = [LeaveOneOut_predict_proba(clf, X, y, i) for i in X.index]\n",
    "    new_roc_auc_score=roc_auc_score(y, y_proba)\n",
    "    if new_roc_auc_score>final_roc_auc_score:\n",
    "        final_roc_auc_score=new_roc_auc_score\n",
    "        best_params=params\n",
    "print(best_params)\n",
    "print(\"%.3f\" % (final_roc_auc_score))"
   ]
  },
  {
   "cell_type": "markdown",
   "metadata": {},
   "source": [
    "This indicates that the best parameters based on grid search are, criterion=\"entropy\", max_depth=50, min_samples_leaf=2 and n_estimators=10. Next we test the performance of these parameters on the model."
   ]
  },
  {
   "cell_type": "markdown",
   "metadata": {},
   "source": [
    "# 1.1 Adding the optimal parameters to the model"
   ]
  },
  {
   "cell_type": "code",
   "execution_count": 11,
   "metadata": {},
   "outputs": [
    {
     "name": "stdout",
     "output_type": "stream",
     "text": [
      "For control vs AD preclinical the accuracy is 0.784 and the auc is 0.784\n",
      "For control vs AD preclinical the sensitivity is 0.703 and the specificity is 0.865\n",
      "                       feature  importance\n",
      "1         PL_FTT_time_interval    0.384413\n",
      "0  FTT_variability_total_Log10    0.327429\n",
      "2                     FTT_rate    0.288158\n"
     ]
    }
   ],
   "source": [
    "#Preparing the data\n",
    "#dropping the biomarkers that should not be used in this model\n",
    "#feat_select=data_class.drop([\"P_TAU\",\"AB42\",\"STROOP_LECT\",\"gender\",\"ANIMALES\",\"RDT\",\"VOSP_NUM\",\"education\",\"AL\",\"RD\",\"BNT\",\"AT\",\"TMT_A\"],axis=1)\n",
    "feat_select=data_class[[\"biodiag\",\"FTT_variability_total_Log10\",\"PL_FTT_time_interval\",\"FTT_rate\"]]\n",
    "\n",
    "#1)Preclinical vs Control \n",
    "#Keeping only the subject in the control(1) and preclinical groups(2)\n",
    "data_model=feat_select.loc[feat_select['biodiag'].isin([1,2])]\n",
    "#Calling the function data_prep to further prepare the dataset:\n",
    "#One hot encodes the group variable (biodiag)\n",
    "#Splits the data into X and y, and turns then into the desired format, an array\n",
    "X,y,coulmnNames=data_prep(data_model)\n",
    "#Oversampling the dataset with SMOTE\n",
    "X,y= smote_data(SMOTE,None,X, y)\n",
    "\n",
    "#Call the function featureimportance to run the model\n",
    "acc, roc_auc, featureImportance,sensitivity,specificity=featureimportance(X,y,RandomForestClassifier(random_state=1,criterion='entropy', max_depth= 50, min_samples_leaf= 1, n_estimators= 10),MinMaxScaler,KNNImputer)\n",
    "print(\"For control vs AD preclinical the accuracy is %.3f and the auc is %.3f\" % (acc, roc_auc))\n",
    "print(\"For control vs AD preclinical the sensitivity is %.3f and the specificity is %.3f\" % (sensitivity, specificity))\n",
    "print_importance(featureImportance,coulmnNames)"
   ]
  },
  {
   "cell_type": "markdown",
   "metadata": {},
   "source": [
    "The grid search performs worse than that of the default parameters which returned an AUC of 0.797. Also considering that the dataset is small, we could not set aside a fresh test set aside, i.e run the grid search with LOOCV on the training set, then evaluate the final model on the fresh test set. Therefore the approach we took could lead to data leakage, thus we will not consider the parameters from the gridsearch. \n"
   ]
  },
  {
   "cell_type": "markdown",
   "metadata": {},
   "source": [
    "# 2. Overfitting"
   ]
  },
  {
   "cell_type": "markdown",
   "metadata": {},
   "source": [
    "A complex model can lead to over-fitting the random effects that are present only in the specific data-set used for training. If these random effects are not present in the test/unseen data, the model will produce incorrect predictions for the test data. To check if this is an issue we can measure the model's performance on the test dataset that was not used during training and on the training dataset itself. \n",
    "\n",
    "We do this for some of the model's parameters that can influence overfitting. We take a range for each of the parameters and plot the training and test AUC for each of the parameters values in the defined range. If overfitting is present we expect to see a divergence between the training and test AUC. \n",
    "\n"
   ]
  },
  {
   "cell_type": "code",
   "execution_count": 19,
   "metadata": {},
   "outputs": [],
   "source": [
    "#Define a function that will return the train and test AUC through leave one out cross validation.\n",
    "def LOOCV_overfitting(X,y,model,scaler,imputer):\n",
    "    #define the split mechanism as leave one out for evaluation \n",
    "    cv = LeaveOneOut()\n",
    "    model=model\n",
    "    #Create three lists to store the true y values (real and predicted) and the importance values for each iteration of leave one out validation\n",
    "    y_true, y_pred = list(), list()\n",
    "    #Run the leave one out \n",
    "    for train_ix, test_ix in cv.split(X):\n",
    "        # split data, using just one sample as the test \n",
    "        X_train, X_test = X[train_ix, :], X[test_ix, :]\n",
    "        y_train, y_test = y[train_ix], y[test_ix]\n",
    "        #Scale the data if called in the definition, where \"None\" means no scaling is applied\n",
    "        X_train,X_test=scale_data(scaler,X_train,X_test)\n",
    "        #Impute missing values using the technique indicated where \"knn\" is k-nearest neighbor and \"mean\" is the mean.\n",
    "        X_train,X_test=impute_data(imputer,X_train,X_test)\n",
    "        #Fit the model\n",
    "        model.fit(X_train, y_train)\n",
    "        #Evaluate the model\n",
    "        yhat = model.predict(X_test)\n",
    "        #Store the predicted and true values of \"y\"\n",
    "        y_true.append(y_test[0])\n",
    "        y_pred.append(yhat[0])\n",
    "    \n",
    "    #Calculate training AUC\n",
    "    y_pred_train=model.predict(X_train)\n",
    "    fpr_train,tpr_train,threshold=roc_curve(y_train,y_pred_train,pos_label=1)\n",
    "    roc_auc_train = auc(fpr_train, tpr_train)\n",
    "    \n",
    "        \n",
    "    #Calculate test AUC\n",
    "    fpr,tpr,threshold=roc_curve(y_true,y_pred,pos_label=1)\n",
    "    roc_auc_test = auc(fpr, tpr)\n",
    "    \n",
    "    return roc_auc_train,roc_auc_test"
   ]
  },
  {
   "cell_type": "markdown",
   "metadata": {},
   "source": [
    "# 2.1 Number of Trees (n_estimators)"
   ]
  },
  {
   "cell_type": "markdown",
   "metadata": {},
   "source": [
    "No sign of overfitting since the test AUC doesn't drop nor does the train AUC increase."
   ]
  },
  {
   "cell_type": "code",
   "execution_count": 20,
   "metadata": {},
   "outputs": [
    {
     "data": {
      "image/png": "[encoded data removed]",
      "text/plain": [
       "<Figure size 432x288 with 1 Axes>"
      ]
     },
     "metadata": {
      "needs_background": "light"
     },
     "output_type": "display_data"
    }
   ],
   "source": [
    "n_estimators = [int(x) for x in np.linspace(start = 10, stop = 300, num = 30)]\n",
    "\n",
    "auc_train, auc_test, n_estimator_list=list(),list(),list()\n",
    "for i in n_estimators:\n",
    "    roc_auc_train,roc_auc_test=LOOCV_overfitting(X,y,RandomForestClassifier(random_state=1,n_estimators=i),scaler,imputer)\n",
    "    auc_train.append(roc_auc_train)\n",
    "    auc_test.append(roc_auc_test)\n",
    "    n_estimator_list.append(i)\n",
    "    \n",
    "    \n",
    "plt.plot(n_estimator_list, auc_train,   label = 'train auc', linewidth=3,color=\"#0073b2\")\n",
    "plt.plot(n_estimator_list, auc_test,   label = 'test auc', linewidth=3,color=\"#ece133\")\n",
    "\n",
    "plt.xlabel('Number of Trees',size=16)\n",
    "plt.ylabel('AUC',size=16)\n",
    "plt.legend(loc=7)\n",
    "plt.title('Train and Test AUC per Number of Trees',size=16,fontweight=\"bold\")\n",
    "plt.show()\n"
   ]
  },
  {
   "cell_type": "markdown",
   "metadata": {},
   "source": [
    "# 2.2 Maximum depth (max_depth)"
   ]
  },
  {
   "cell_type": "markdown",
   "metadata": {},
   "source": [
    "No sign of overfitting since the test AUC doesn't drop nor does the train AUC increase."
   ]
  },
  {
   "cell_type": "code",
   "execution_count": 21,
   "metadata": {},
   "outputs": [
    {
     "data": {
      "image/png": "[encoded data removed]",
      "text/plain": [
       "<Figure size 432x288 with 1 Axes>"
      ]
     },
     "metadata": {
      "needs_background": "light"
     },
     "output_type": "display_data"
    }
   ],
   "source": [
    "max_depth = [4,5,6,7,8]+[int(x) for x in np.linspace(10, 110, num = 11)]\n",
    "max_depth.append(None)\n",
    "\n",
    "auc_train, auc_test, max_depth_list=list(),list(),list()\n",
    "for i in max_depth:\n",
    "    roc_auc_train,roc_auc_test=LOOCV_overfitting(X,y,RandomForestClassifier(random_state=1,max_depth=i),scaler,imputer)\n",
    "    auc_train.append(roc_auc_train)\n",
    "    auc_test.append(roc_auc_test)\n",
    "    max_depth_list.append(i)\n",
    "    \n",
    "    \n",
    "plt.plot(max_depth_list, auc_train,   label = 'train auc', linewidth=3,color=\"#0073b2\")\n",
    "plt.plot(max_depth_list, auc_test,   label = 'test auc', linewidth=3,color=\"#ece133\")\n",
    "\n",
    "plt.xlabel('Maximum depth',size=16)\n",
    "plt.ylabel('AUC',size=16)\n",
    "plt.legend(loc=7)\n",
    "plt.title('Train and Test AUC per Maximum depth',size=16,fontweight=\"bold\")\n",
    "plt.show()\n"
   ]
  },
  {
   "cell_type": "markdown",
   "metadata": {},
   "source": [
    "# 2.3 Minimum samples per leaf (min_samples_leaf)"
   ]
  },
  {
   "cell_type": "markdown",
   "metadata": {},
   "source": [
    "Sign of overfitting with the minimum of sample leaf equals to 1 (This is the default value). This is because with a value of 1, it means the tree in the end could potentially have one leaf for each sample which will 100% will overfit.  We can choose a value of 2 to avoid this from happening. "
   ]
  },
  {
   "cell_type": "code",
   "execution_count": 23,
   "metadata": {},
   "outputs": [
    {
     "data": {
      "image/png": "[encoded data removed]",
      "text/plain": [
       "<Figure size 432x288 with 1 Axes>"
      ]
     },
     "metadata": {
      "needs_background": "light"
     },
     "output_type": "display_data"
    }
   ],
   "source": [
    "min_samples_leaf=[1,2,3,4,5]\n",
    "\n",
    "auc_train, auc_test, min_samples_leaf_list=list(),list(),list()\n",
    "for i in min_samples_leaf:\n",
    "    roc_auc_train,roc_auc_test=LOOCV_overfitting(X,y,RandomForestClassifier(random_state=1,min_samples_leaf=i),scaler,imputer)\n",
    "    auc_train.append(roc_auc_train)\n",
    "    auc_test.append(roc_auc_test)\n",
    "    min_samples_leaf_list.append(i)\n",
    "    \n",
    "    \n",
    "plt.plot(min_samples_leaf_list, auc_train,   label = 'train auc', linewidth=3,color=\"#0073b2\")\n",
    "plt.plot(min_samples_leaf_list, auc_test,   label = 'test auc', linewidth=3,color=\"#ece133\")\n",
    "\n",
    "plt.xlabel('Minimum samples per leaf',size=16)\n",
    "plt.ylabel('AUC',size=16)\n",
    "plt.legend(loc=7)\n",
    "plt.title('Train and Test AUC per Min samples per leaf',size=16,fontweight=\"bold\")\n",
    "plt.show()\n"
   ]
  },
  {
   "cell_type": "markdown",
   "metadata": {},
   "source": [
    "# 2.4 Rerun the model with the new parameter (min_samples_leaf=2)"
   ]
  },
  {
   "cell_type": "code",
   "execution_count": 24,
   "metadata": {},
   "outputs": [
    {
     "name": "stdout",
     "output_type": "stream",
     "text": [
      "For control vs AD preclinical the accuracy is 0.797 and the auc is 0.797\n",
      "For control vs AD preclinical the sensitivity is 0.811 and the specificity is 0.784\n",
      "                       feature  importance\n",
      "1         PL_FTT_time_interval    0.342423\n",
      "2                     FTT_rate    0.330159\n",
      "0  FTT_variability_total_Log10    0.327418\n"
     ]
    }
   ],
   "source": [
    "#Preparing the data\n",
    "#dropping the biomarkers that should not be used in this model\n",
    "#feat_select=data_class.drop([\"P_TAU\",\"AB42\",\"STROOP_LECT\",\"gender\",\"ANIMALES\",\"RDT\",\"VOSP_NUM\",\"education\",\"AL\",\"RD\",\"BNT\",\"AT\",\"TMT_A\"],axis=1)\n",
    "feat_select=data_class[[\"biodiag\",\"FTT_variability_total_Log10\",\"PL_FTT_time_interval\",\"FTT_rate\"]]\n",
    "\n",
    "#1)Preclinical vs Control \n",
    "#Keeping only the subject in the control(1) and preclinical groups(2)\n",
    "data_model=feat_select.loc[feat_select['biodiag'].isin([1,2])]\n",
    "#Calling the function data_prep to further prepare the dataset:\n",
    "#One hot encodes the group variable (biodiag)\n",
    "#Splits the data into X and y, and turns then into the desired format, an array\n",
    "X,y,coulmnNames=data_prep(data_model)\n",
    "#Oversampling the dataset with SMOTE\n",
    "X,y= smote_data(SMOTE,None,X, y)\n",
    "\n",
    "#Call the function featureimportance to run the model\n",
    "acc, roc_auc, featureImportance,sensitivity,specificity=featureimportance(X,y,RandomForestClassifier(random_state=1,min_samples_leaf=2),MinMaxScaler,KNNImputer)\n",
    "print(\"For control vs AD preclinical the accuracy is %.3f and the auc is %.3f\" % (acc, roc_auc))\n",
    "print(\"For control vs AD preclinical the sensitivity is %.3f and the specificity is %.3f\" % (sensitivity, specificity))\n",
    "print_importance(featureImportance,coulmnNames)\n"
   ]
  }
 ],
 "metadata": {
  "kernelspec": {
   "display_name": "Python 3",
   "language": "python",
   "name": "python3"
  },
  "language_info": {
   "codemirror_mode": {
    "name": "ipython",
    "version": 3
   },
   "file_extension": ".py",
   "mimetype": "text/x-python",
   "name": "python",
   "nbconvert_exporter": "python",
   "pygments_lexer": "ipython3",
   "version": "3.8.5"
  }
 },
 "nbformat": 4,
 "nbformat_minor": 4
}
