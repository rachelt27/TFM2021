{
 "cells": [
  {
   "cell_type": "code",
   "execution_count": 15,
   "metadata": {},
   "outputs": [],
   "source": [
    "#Importing all packages needed \n",
    "#1) Fundatmental \n",
    "import pandas as pd\n",
    "import numpy as np\n",
    "\n",
    "#2) Preprocessing \n",
    "from sklearn import preprocessing\n",
    "from sklearn.preprocessing import MinMaxScaler\n",
    "from sklearn.impute import KNNImputer\n",
    "from sklearn.impute import SimpleImputer\n",
    "import imblearn\n",
    "from imblearn.over_sampling import SMOTE\n",
    "from imblearn.over_sampling import SMOTENC\n",
    "\n",
    "#3) Model \n",
    "from sklearn.ensemble import RandomForestClassifier\n",
    "\n",
    "#4) Validation  \n",
    "from sklearn.model_selection import LeaveOneOut\n",
    "\n",
    "#5) Performance metrics  \n",
    "from sklearn.metrics import roc_auc_score, confusion_matrix,accuracy_score\n",
    "\n",
    "#6) Custom Functions\n",
    "#!pip install ipynb\n",
    "from ipynb.fs.full.Functions import *\n",
    "\n",
    "\n",
    "import warnings\n",
    "warnings.filterwarnings(\"ignore\")"
   ]
  },
  {
   "cell_type": "markdown",
   "metadata": {},
   "source": [
    "#  Synthetic Minority Oversampling Technique (SMOTE)"
   ]
  },
  {
   "cell_type": "markdown",
   "metadata": {},
   "source": [
    "# 1. Tapping Features\n",
    "\n",
    "The only features that showed evidence of being sensitive enough to identify *Preclinical* subjects were the tapping features. However we saw that the sensitivity was low at 0.550 due to the imbalance nature of the dataset and thus we apply SMOTE to make the dataset balanced. \n",
    "\n",
    "The performnace metrics improve thanks to SMOTE with an accuracy of 0.797 and AUC of 0.797, compared to the model without SMOTE that had an accuracy of 0.772 and AUC of 0.721. The sensitivity saw an improvement with a value of 0.811 compared to 0.550 without SMOTE. Thus we can conclude that SMOTE has been successful at improving the imbalanced and subsequently the performance"
   ]
  },
  {
   "cell_type": "code",
   "execution_count": 19,
   "metadata": {},
   "outputs": [],
   "source": [
    "#Reading in the dataset\n",
    "data=pd.read_spss(\"FTT.sav\")  \n",
    "\n",
    "#Taking the columns that are needed \n",
    "data_class=data[['groups','P_TAU','AB42','FTT_rate','FTT_variability_total_Log10','age', 'gender','education','AL','AT','RD','RDT','BNT','ANIMALES','VOSP_NUM','TMT_A','TMT_B','STROOP_LECT','STROOP_COLOR','STROOP_INT','SDMT',\"PL_FTT_time_interval\"]]\n",
    "\n",
    "#Renaming the group name to biodiag to match the previous dataset1 and numbering also in the same way\n",
    "data_class = data_class.rename(columns={'groups': 'biodiag'})\n",
    "data_class['biodiag'] = data_class['biodiag'].replace({\"grupo control\":1, \"grupo preclinico\":2, \"grupo con EA\":3})\n",
    "\n",
    "#Turning gender into binary \n",
    "data_class['gender'] = data_class['gender'].replace({\"male\":1, \"female\":0})\n",
    "\n",
    "\n",
    "#Creating a dataframe for tapping features only\n",
    "feat_select=data_class[[\"biodiag\",\"FTT_variability_total_Log10\",\"PL_FTT_time_interval\",\"FTT_rate\"]]"
   ]
  },
  {
   "cell_type": "code",
   "execution_count": 20,
   "metadata": {},
   "outputs": [
    {
     "name": "stdout",
     "output_type": "stream",
     "text": [
      "For control vs AD preclinical the accuracy is 0.797 and the auc is 0.797\n",
      "For control vs AD preclinical the sensitivity is 0.811 and the specificity is 0.784\n",
      "                       feature  importance\n",
      "1         PL_FTT_time_interval    0.346775\n",
      "0  FTT_variability_total_Log10    0.329076\n",
      "2                     FTT_rate    0.324148\n"
     ]
    }
   ],
   "source": [
    "#Preparing the data\n",
    "#dropping the biomarkers that should not be used in this model\n",
    "#feat_select=data_class.drop([\"P_TAU\",\"AB42\",\"STROOP_LECT\",\"gender\",\"ANIMALES\",\"RDT\",\"VOSP_NUM\",\"education\",\"AL\",\"RD\",\"BNT\",\"AT\",\"TMT_A\"],axis=1)\n",
    "feat_select=data_class[[\"biodiag\",\"FTT_variability_total_Log10\",\"PL_FTT_time_interval\",\"FTT_rate\"]]\n",
    "\n",
    "#1)Preclinical vs Control \n",
    "#Keeping only the subject in the control(1) and preclinical groups(2)\n",
    "data_model=feat_select.loc[feat_select['biodiag'].isin([1,2])]\n",
    "#Calling the function data_prep to further prepare the dataset:\n",
    "#One hot encodes the group variable (biodiag)\n",
    "#Splits the data into X and y, and turns then into the desired format, an array\n",
    "X,y,coulmnNames=data_prep(data_model)\n",
    "#Oversampling the dataset with SMOTE\n",
    "X,y= smote_data(SMOTE,None,X, y)\n",
    "\n",
    "#Call the function featureimportance to run the model\n",
    "acc, roc_auc, featureImportance,sensitivity,specificity=featureimportance(X,y,RandomForestClassifier(random_state=1),MinMaxScaler,KNNImputer)\n",
    "print(\"For control vs AD preclinical the accuracy is %.3f and the auc is %.3f\" % (acc, roc_auc))\n",
    "print(\"For control vs AD preclinical the sensitivity is %.3f and the specificity is %.3f\" % (sensitivity, specificity))\n",
    "print_importance(featureImportance,coulmnNames)\n"
   ]
  },
  {
   "cell_type": "code",
   "execution_count": null,
   "metadata": {},
   "outputs": [],
   "source": []
  }
 ],
 "metadata": {
  "kernelspec": {
   "display_name": "Python 3",
   "language": "python",
   "name": "python3"
  },
  "language_info": {
   "codemirror_mode": {
    "name": "ipython",
    "version": 3
   },
   "file_extension": ".py",
   "mimetype": "text/x-python",
   "name": "python",
   "nbconvert_exporter": "python",
   "pygments_lexer": "ipython3",
   "version": "3.8.5"
  }
 },
 "nbformat": 4,
 "nbformat_minor": 4
}
