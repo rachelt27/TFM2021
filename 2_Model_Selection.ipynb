{
 "cells": [
  {
   "cell_type": "code",
   "execution_count": 20,
   "metadata": {},
   "outputs": [],
   "source": [
    "#Importing all packages needed \n",
    "#1) Fundatmental \n",
    "import pandas as pd\n",
    "import numpy as np\n",
    "\n",
    "#2) Preprocessing \n",
    "from sklearn import preprocessing\n",
    "from sklearn.preprocessing import MinMaxScaler\n",
    "from sklearn.impute import KNNImputer\n",
    "from sklearn.impute import SimpleImputer\n",
    "import imblearn\n",
    "\n",
    "#3) Model \n",
    "from sklearn.linear_model import LogisticRegression\n",
    "from sklearn.svm import SVC\n",
    "from sklearn.ensemble import AdaBoostClassifier\n",
    "from sklearn.multiclass import OneVsRestClassifier\n",
    "from sklearn.multiclass import OneVsOneClassifier\n",
    "from sklearn.ensemble import VotingClassifier\n",
    "from sklearn.ensemble import RandomForestClassifier\n",
    "from sklearn.naive_bayes import GaussianNB\n",
    "from sklearn.tree import DecisionTreeClassifier\n",
    "import xgboost as xgb\n",
    "from mlxtend.classifier import StackingClassifier\n",
    "from catboost import CatBoostClassifier\n",
    "\n",
    "#4) Validation  \n",
    "from sklearn.model_selection import LeaveOneOut\n",
    "\n",
    "#5) Performance metrics  \n",
    "from sklearn.metrics import roc_auc_score, confusion_matrix,accuracy_score\n",
    "\n",
    "#6) Custom Functions\n",
    "#!pip install ipynb\n",
    "from ipynb.fs.full.Functions import *\n",
    "\n",
    "import warnings\n",
    "warnings.filterwarnings(\"ignore\")"
   ]
  },
  {
   "cell_type": "code",
   "execution_count": 21,
   "metadata": {},
   "outputs": [],
   "source": [
    "import warnings\n",
    "warnings.filterwarnings(\"ignore\")"
   ]
  },
  {
   "cell_type": "markdown",
   "metadata": {},
   "source": [
    "# Model Selection \n",
    "In this notebook we will discover the best model at predicting our data by testing a range of classification model and validating them using the metric area under the curve (AUC) through leave one out cross validation. \n",
    "\n",
    "We tested the below models:\n",
    "1) Random Forest <br>\n",
    "2) Logistic Regression<br> \n",
    "3) SVM (Linear Kernel)<br>\n",
    "4) SVM (Polynomial Kernel)<br>\n",
    "5) SVM (Radial Basis Function Kernel)<br>\n",
    "6) Naive Bayes<br>\n",
    "7) XGBoost <br>\n",
    "8) Adaboost<br>\n",
    "9) Hard Voting<br>\n",
    "10) Stacking<br>"
   ]
  },
  {
   "cell_type": "code",
   "execution_count": 22,
   "metadata": {},
   "outputs": [],
   "source": [
    "#Reading in the dataset\n",
    "data=pd.read_excel(open(\"biomarkers.xlsx\",'rb'))\n",
    "#Removing the groups that are not needed \n",
    "data=data[data['biodiag'] < 5]\n",
    "\n",
    "#Taking the columns that are needed \n",
    "data_class=data[[\"edad\",\n",
    "\"años_escol\",\n",
    "\"Sexo\",\n",
    "\"biodiag\",\n",
    "\"APOE\",\n",
    "\"t_tau\",\n",
    "\"p_tau\",\n",
    "\"AB_42_TUB_B\",                \n",
    "\"buschke_AL\",\n",
    "\"buschke_AT\",\n",
    "\"buschke_RDL\",\n",
    "\"buschke_RDT\",\n",
    "\"tam\",\n",
    "\"vis_cerad\",\n",
    "\"paisajes_tot\",\n",
    "\"bnt\",\n",
    "\"flu_anim\",\n",
    "\"compren\",\n",
    "\"ideom\",\n",
    "\"prax_cerad\",\n",
    "\"tdp\",\n",
    "\"VOSP_num\",\n",
    "\"VOSP_letras\",\n",
    "\"tmtA\",\n",
    "\"tmtB\",\n",
    "\"fas_total\",\n",
    "\"Stroop_lect\",\n",
    "\"Stroop_color\",\n",
    "\"Stroop_I\",\n",
    "\"Clave_num\"]]\n",
    "\n",
    "feat_select=data_class.drop([\"APOE\",\"t_tau\",\"p_tau\",\"AB_42_TUB_B\"],axis=1)"
   ]
  },
  {
   "cell_type": "markdown",
   "metadata": {},
   "source": [
    "# 1) Random Forest\n"
   ]
  },
  {
   "cell_type": "code",
   "execution_count": 23,
   "metadata": {},
   "outputs": [
    {
     "name": "stdout",
     "output_type": "stream",
     "text": [
      "For control vs AD preclinical the accuracy is 0.762 and the auc is 0.555\n",
      "For control vs AD preclinical the sensitivity is 0.160 and the specificity is 0.950\n",
      "-------------------------------------------------------------------------------------------\n",
      "For control vs AD prodromal the accuracy is 0.919 and the auc is 0.894\n",
      "For control vs AD prodromal the sensitivity is 0.975 and the specificity is 0.814\n"
     ]
    }
   ],
   "source": [
    "#1)Preclinical vs Control \n",
    "#Keeping only the subject in the control(1) and preclinical groups(2)\n",
    "data_model=feat_select.loc[feat_select['biodiag'].isin([1,2])]\n",
    "#Calling the function data_prep to further prepare the dataset:\n",
    "#One hot encodes the group variable (biodiag)\n",
    "#Splits the data into X and y, and turns then into the desired format, an array\n",
    "X,y,coulmnNames=data_prep(data_model)\n",
    "#Call the function featureimportance to run the model\n",
    "acc, roc_auc,sensitivity,specificity=LOOCV(X,y,RandomForestClassifier(random_state=1),MinMaxScaler,KNNImputer)\n",
    "print(\"For control vs AD preclinical the accuracy is %.3f and the auc is %.3f\" % (acc, roc_auc))\n",
    "print(\"For control vs AD preclinical the sensitivity is %.3f and the specificity is %.3f\" % (sensitivity, specificity))\n",
    "\n",
    "print(\"-------------------------------------------------------------------------------------------\")\n",
    "\n",
    "#2)Prodromal vs Control \n",
    "#Keeping only the subject in the control(1) and prodromal groups(3)\n",
    "data_model=feat_select.loc[feat_select['biodiag'].isin([1,3])]\n",
    "#Calling the function data_prep to further prepare the dataset:\n",
    "#One hot encodes the group variable (biodiag)\n",
    "#Splits the data into X and y, and turns then into the desired format, an array\n",
    "X,y,coulmnNames=data_prep(data_model)\n",
    "#Call the function featureimportance to run the model\n",
    "acc, roc_auc,sensitivity,specificity=LOOCV(X,y,RandomForestClassifier(random_state=1),MinMaxScaler,KNNImputer)\n",
    "print(\"For control vs AD prodromal the accuracy is %.3f and the auc is %.3f\" % (acc, roc_auc))\n",
    "print(\"For control vs AD prodromal the sensitivity is %.3f and the specificity is %.3f\" % (sensitivity, specificity))"
   ]
  },
  {
   "cell_type": "markdown",
   "metadata": {},
   "source": [
    "# 2) Logistic Regression\n"
   ]
  },
  {
   "cell_type": "code",
   "execution_count": 24,
   "metadata": {},
   "outputs": [
    {
     "name": "stdout",
     "output_type": "stream",
     "text": [
      "For control vs AD preclinical the accuracy is 0.629 and the auc is 0.564\n",
      "For control vs AD preclinical the sensitivity is 0.440 and the specificity is 0.688\n",
      "-------------------------------------------------------------------------------------------\n",
      "For control vs AD prodromal the accuracy is 0.919 and the auc is 0.894\n",
      "For control vs AD prodromal the sensitivity is 0.975 and the specificity is 0.814\n"
     ]
    }
   ],
   "source": [
    "#1)Preclinical vs Control \n",
    "#Keeping only the subject in the control(1) and preclinical groups(2)\n",
    "data_model=feat_select.loc[feat_select['biodiag'].isin([1,2])]\n",
    "#Calling the function data_prep to further prepare the dataset:\n",
    "#One hot encodes the group variable (biodiag)\n",
    "#Splits the data into X and y, and turns then into the desired format, an array\n",
    "X,y,coulmnNames=data_prep(data_model)\n",
    "#Call the function featureimportance to run the model\n",
    "acc, roc_auc,sensitivity,specificity=LOOCV(X,y,LogisticRegression(random_state=1,class_weight='balanced'),MinMaxScaler,KNNImputer)\n",
    "print(\"For control vs AD preclinical the accuracy is %.3f and the auc is %.3f\" % (acc, roc_auc))\n",
    "print(\"For control vs AD preclinical the sensitivity is %.3f and the specificity is %.3f\" % (sensitivity, specificity))\n",
    "\n",
    "print(\"-------------------------------------------------------------------------------------------\")\n",
    "\n",
    "#2)Prodromal vs Control \n",
    "#Keeping only the subject in the control(1) and prodromal groups(3)\n",
    "data_model=feat_select.loc[feat_select['biodiag'].isin([1,3])]\n",
    "#Calling the function data_prep to further prepare the dataset:\n",
    "#One hot encodes the group variable (biodiag)\n",
    "#Splits the data into X and y, and turns then into the desired format, an array\n",
    "X,y,coulmnNames=data_prep(data_model)\n",
    "#Call the function featureimportance to run the model\n",
    "acc, roc_auc,sensitivity,specificity=LOOCV(X,y,LogisticRegression(random_state=1),MinMaxScaler,KNNImputer)\n",
    "print(\"For control vs AD prodromal the accuracy is %.3f and the auc is %.3f\" % (acc, roc_auc))\n",
    "print(\"For control vs AD prodromal the sensitivity is %.3f and the specificity is %.3f\" % (sensitivity, specificity))"
   ]
  },
  {
   "cell_type": "markdown",
   "metadata": {},
   "source": [
    "# 3) Support Vector Machines (Linear)"
   ]
  },
  {
   "cell_type": "code",
   "execution_count": 25,
   "metadata": {},
   "outputs": [
    {
     "name": "stdout",
     "output_type": "stream",
     "text": [
      "For control vs AD preclinical the accuracy is 0.771 and the auc is 0.520\n",
      "For control vs AD preclinical the sensitivity is 0.040 and the specificity is 1.000\n",
      "-------------------------------------------------------------------------------------------\n",
      "For control vs AD prodromal the accuracy is 0.935 and the auc is 0.918\n",
      "For control vs AD prodromal the sensitivity is 0.975 and the specificity is 0.860\n"
     ]
    }
   ],
   "source": [
    "#1)Preclinical vs Control \n",
    "#Keeping only the subject in the control(1) and preclinical groups(2)\n",
    "data_model=feat_select.loc[feat_select['biodiag'].isin([1,2])]\n",
    "#Calling the function data_prep to further prepare the dataset:\n",
    "#One hot encodes the group variable (biodiag)\n",
    "#Splits the data into X and y, and turns then into the desired format, an array\n",
    "X,y,coulmnNames=data_prep(data_model)\n",
    "#Call the function featureimportance to run the model\n",
    "acc, roc_auc,sensitivity,specificity=LOOCV(X,y,SVC(kernel='linear',random_state=1),MinMaxScaler,KNNImputer)\n",
    "print(\"For control vs AD preclinical the accuracy is %.3f and the auc is %.3f\" % (acc, roc_auc))\n",
    "print(\"For control vs AD preclinical the sensitivity is %.3f and the specificity is %.3f\" % (sensitivity, specificity))\n",
    "\n",
    "print(\"-------------------------------------------------------------------------------------------\")\n",
    "\n",
    "#2)Prodromal vs Control \n",
    "#Keeping only the subject in the control(1) and prodromal groups(3)\n",
    "data_model=feat_select.loc[feat_select['biodiag'].isin([1,3])]\n",
    "#Calling the function data_prep to further prepare the dataset:\n",
    "#One hot encodes the group variable (biodiag)\n",
    "#Splits the data into X and y, and turns then into the desired format, an array\n",
    "X,y,coulmnNames=data_prep(data_model)\n",
    "#Call the function featureimportance to run the model\n",
    "acc, roc_auc,sensitivity,specificity=LOOCV(X,y,SVC(kernel='linear',random_state=1),MinMaxScaler,KNNImputer)\n",
    "print(\"For control vs AD prodromal the accuracy is %.3f and the auc is %.3f\" % (acc, roc_auc))\n",
    "print(\"For control vs AD prodromal the sensitivity is %.3f and the specificity is %.3f\" % (sensitivity, specificity))"
   ]
  },
  {
   "cell_type": "markdown",
   "metadata": {},
   "source": [
    "# 4) Support Vector Machines (Polynomial)"
   ]
  },
  {
   "cell_type": "code",
   "execution_count": 26,
   "metadata": {},
   "outputs": [
    {
     "name": "stdout",
     "output_type": "stream",
     "text": [
      "For control vs AD preclinical the accuracy is 0.752 and the auc is 0.535\n",
      "For control vs AD preclinical the sensitivity is 0.120 and the specificity is 0.950\n",
      "-------------------------------------------------------------------------------------------\n",
      "For control vs AD prodromal the accuracy is 0.911 and the auc is 0.894\n",
      "For control vs AD prodromal the sensitivity is 0.950 and the specificity is 0.837\n"
     ]
    }
   ],
   "source": [
    "#1)Preclinical vs Control \n",
    "#Keeping only the subject in the control(1) and preclinical groups(2)\n",
    "data_model=feat_select.loc[feat_select['biodiag'].isin([1,2])]\n",
    "#Calling the function data_prep to further prepare the dataset:\n",
    "#One hot encodes the group variable (biodiag)\n",
    "#Splits the data into X and y, and turns then into the desired format, an array\n",
    "X,y,coulmnNames=data_prep(data_model)\n",
    "#Call the function featureimportance to run the model\n",
    "acc, roc_auc,sensitivity,specificity=LOOCV(X,y,SVC(kernel='poly', degree=2,random_state=1),MinMaxScaler,KNNImputer)\n",
    "print(\"For control vs AD preclinical the accuracy is %.3f and the auc is %.3f\" % (acc, roc_auc))\n",
    "print(\"For control vs AD preclinical the sensitivity is %.3f and the specificity is %.3f\" % (sensitivity, specificity))\n",
    "\n",
    "print(\"-------------------------------------------------------------------------------------------\")\n",
    "\n",
    "#2)Prodromal vs Control \n",
    "#Keeping only the subject in the control(1) and prodromal groups(3)\n",
    "data_model=feat_select.loc[feat_select['biodiag'].isin([1,3])]\n",
    "#Calling the function data_prep to further prepare the dataset:\n",
    "#One hot encodes the group variable (biodiag)\n",
    "#Splits the data into X and y, and turns then into the desired format, an array\n",
    "X,y,coulmnNames=data_prep(data_model)\n",
    "#Call the function featureimportance to run the model\n",
    "acc, roc_auc,sensitivity,specificity=LOOCV(X,y,SVC(kernel='poly',degree=2,random_state=1),MinMaxScaler,KNNImputer)\n",
    "print(\"For control vs AD prodromal the accuracy is %.3f and the auc is %.3f\" % (acc, roc_auc))\n",
    "print(\"For control vs AD prodromal the sensitivity is %.3f and the specificity is %.3f\" % (sensitivity, specificity))"
   ]
  },
  {
   "cell_type": "markdown",
   "metadata": {},
   "source": [
    "# 5) Support Vector Machines (RBF)"
   ]
  },
  {
   "cell_type": "code",
   "execution_count": 27,
   "metadata": {},
   "outputs": [
    {
     "name": "stdout",
     "output_type": "stream",
     "text": [
      "For control vs AD preclinical the accuracy is 0.762 and the auc is 0.500\n",
      "For control vs AD preclinical the sensitivity is 0.000 and the specificity is 1.000\n",
      "-------------------------------------------------------------------------------------------\n",
      "For control vs AD prodromal the accuracy is 0.911 and the auc is 0.888\n",
      "For control vs AD prodromal the sensitivity is 0.963 and the specificity is 0.814\n"
     ]
    }
   ],
   "source": [
    "#1)Preclinical vs Control \n",
    "#Keeping only the subject in the control(1) and preclinical groups(2)\n",
    "data_model=feat_select.loc[feat_select['biodiag'].isin([1,2])]\n",
    "#Calling the function data_prep to further prepare the dataset:\n",
    "#One hot encodes the group variable (biodiag)\n",
    "#Splits the data into X and y, and turns then into the desired format, an array\n",
    "X,y,coulmnNames=data_prep(data_model)\n",
    "#Call the function featureimportance to run the model\n",
    "acc, roc_auc,sensitivity,specificity=LOOCV(X,y,SVC(kernel='rbf',random_state=1),MinMaxScaler,KNNImputer)\n",
    "print(\"For control vs AD preclinical the accuracy is %.3f and the auc is %.3f\" % (acc, roc_auc))\n",
    "print(\"For control vs AD preclinical the sensitivity is %.3f and the specificity is %.3f\" % (sensitivity, specificity))\n",
    "\n",
    "print(\"-------------------------------------------------------------------------------------------\")\n",
    "\n",
    "#2)Prodromal vs Control \n",
    "#Keeping only the subject in the control(1) and prodromal groups(3)\n",
    "data_model=feat_select.loc[feat_select['biodiag'].isin([1,3])]\n",
    "#Calling the function data_prep to further prepare the dataset:\n",
    "#One hot encodes the group variable (biodiag)\n",
    "#Splits the data into X and y, and turns then into the desired format, an array\n",
    "X,y,coulmnNames=data_prep(data_model)\n",
    "#Call the function featureimportance to run the model\n",
    "acc, roc_auc,sensitivity,specificity=LOOCV(X,y,SVC(kernel='rbf',random_state=1),MinMaxScaler,KNNImputer)\n",
    "print(\"For control vs AD prodromal the accuracy is %.3f and the auc is %.3f\" % (acc, roc_auc))\n",
    "print(\"For control vs AD prodromal the sensitivity is %.3f and the specificity is %.3f\" % (sensitivity, specificity))"
   ]
  },
  {
   "cell_type": "markdown",
   "metadata": {},
   "source": [
    "# 6) Guassian Naive Bayes"
   ]
  },
  {
   "cell_type": "code",
   "execution_count": 28,
   "metadata": {},
   "outputs": [
    {
     "name": "stdout",
     "output_type": "stream",
     "text": [
      "For control vs AD preclinical the accuracy is 0.381 and the auc is 0.525\n",
      "For control vs AD preclinical the sensitivity is 0.800 and the specificity is 0.250\n",
      "-------------------------------------------------------------------------------------------\n",
      "For control vs AD prodromal the accuracy is 0.902 and the auc is 0.893\n",
      "For control vs AD prodromal the sensitivity is 0.925 and the specificity is 0.860\n"
     ]
    }
   ],
   "source": [
    "#1)Preclinical vs Control \n",
    "#Keeping only the subject in the control(1) and preclinical groups(2)\n",
    "data_model=feat_select.loc[feat_select['biodiag'].isin([1,2])]\n",
    "#Calling the function data_prep to further prepare the dataset:\n",
    "#One hot encodes the group variable (biodiag)\n",
    "#Splits the data into X and y, and turns then into the desired format, an array\n",
    "X,y,coulmnNames=data_prep(data_model)\n",
    "#Call the function featureimportance to run the model\n",
    "acc, roc_auc,sensitivity,specificity=LOOCV(X,y,GaussianNB(),MinMaxScaler,KNNImputer)\n",
    "print(\"For control vs AD preclinical the accuracy is %.3f and the auc is %.3f\" % (acc, roc_auc))\n",
    "print(\"For control vs AD preclinical the sensitivity is %.3f and the specificity is %.3f\" % (sensitivity, specificity))\n",
    "\n",
    "print(\"-------------------------------------------------------------------------------------------\")\n",
    "\n",
    "#2)Prodromal vs Control \n",
    "#Keeping only the subject in the control(1) and prodromal groups(3)\n",
    "data_model=feat_select.loc[feat_select['biodiag'].isin([1,3])]\n",
    "#Calling the function data_prep to further prepare the dataset:\n",
    "#One hot encodes the group variable (biodiag)\n",
    "#Splits the data into X and y, and turns then into the desired format, an array\n",
    "X,y,coulmnNames=data_prep(data_model)\n",
    "#Call the function featureimportance to run the model\n",
    "acc, roc_auc,sensitivity,specificity=LOOCV(X,y,GaussianNB(),MinMaxScaler,KNNImputer)\n",
    "print(\"For control vs AD prodromal the accuracy is %.3f and the auc is %.3f\" % (acc, roc_auc))\n",
    "print(\"For control vs AD prodromal the sensitivity is %.3f and the specificity is %.3f\" % (sensitivity, specificity))"
   ]
  },
  {
   "cell_type": "markdown",
   "metadata": {},
   "source": [
    "# 7) AdaBoostClassifier"
   ]
  },
  {
   "cell_type": "code",
   "execution_count": 29,
   "metadata": {},
   "outputs": [
    {
     "name": "stdout",
     "output_type": "stream",
     "text": [
      "For control vs AD preclinical the accuracy is 0.752 and the auc is 0.604\n",
      "For control vs AD preclinical the sensitivity is 0.320 and the specificity is 0.887\n",
      "-------------------------------------------------------------------------------------------\n",
      "For control vs AD prodromal the accuracy is 0.902 and the auc is 0.887\n",
      "For control vs AD prodromal the sensitivity is 0.938 and the specificity is 0.837\n"
     ]
    }
   ],
   "source": [
    "#1)Preclinical vs Control \n",
    "#Keeping only the subject in the control(1) and preclinical groups(2)\n",
    "data_model=feat_select.loc[feat_select['biodiag'].isin([1,2])]\n",
    "#Calling the function data_prep to further prepare the dataset:\n",
    "#One hot encodes the group variable (biodiag)\n",
    "#Splits the data into X and y, and turns then into the desired format, an array\n",
    "X,y,coulmnNames=data_prep(data_model)\n",
    "#Call the function featureimportance to run the model\n",
    "acc, roc_auc,sensitivity,specificity=LOOCV(X,y,AdaBoostClassifier(),MinMaxScaler,KNNImputer)\n",
    "print(\"For control vs AD preclinical the accuracy is %.3f and the auc is %.3f\" % (acc, roc_auc))\n",
    "print(\"For control vs AD preclinical the sensitivity is %.3f and the specificity is %.3f\" % (sensitivity, specificity))\n",
    "\n",
    "print(\"-------------------------------------------------------------------------------------------\")\n",
    "\n",
    "#2)Prodromal vs Control \n",
    "#Keeping only the subject in the control(1) and prodromal groups(3)\n",
    "data_model=feat_select.loc[feat_select['biodiag'].isin([1,3])]\n",
    "#Calling the function data_prep to further prepare the dataset:\n",
    "#One hot encodes the group variable (biodiag)\n",
    "#Splits the data into X and y, and turns then into the desired format, an array\n",
    "X,y,coulmnNames=data_prep(data_model)\n",
    "#Call the function featureimportance to run the model\n",
    "acc, roc_auc,sensitivity,specificity=LOOCV(X,y,AdaBoostClassifier(),MinMaxScaler,KNNImputer)\n",
    "print(\"For control vs AD prodromal the accuracy is %.3f and the auc is %.3f\" % (acc, roc_auc))\n",
    "print(\"For control vs AD prodromal the sensitivity is %.3f and the specificity is %.3f\" % (sensitivity, specificity))"
   ]
  },
  {
   "cell_type": "markdown",
   "metadata": {},
   "source": [
    "# 8) XGBoost"
   ]
  },
  {
   "cell_type": "code",
   "execution_count": 30,
   "metadata": {},
   "outputs": [
    {
     "name": "stdout",
     "output_type": "stream",
     "text": [
      "For control vs AD preclinical the accuracy is 0.743 and the auc is 0.570\n",
      "For control vs AD preclinical the sensitivity is 0.240 and the specificity is 0.900\n",
      "-------------------------------------------------------------------------------------------\n",
      "For control vs AD prodromal the accuracy is 0.919 and the auc is 0.900\n",
      "For control vs AD prodromal the sensitivity is 0.963 and the specificity is 0.837\n"
     ]
    }
   ],
   "source": [
    "#1)Preclinical vs Control \n",
    "#Keeping only the subject in the control(1) and preclinical groups(2)\n",
    "data_model=feat_select.loc[feat_select['biodiag'].isin([1,2])]\n",
    "#Calling the function data_prep to further prepare the dataset:\n",
    "#One hot encodes the group variable (biodiag)\n",
    "#Splits the data into X and y, and turns then into the desired format, an array\n",
    "X,y,coulmnNames=data_prep(data_model)\n",
    "#Call the function featureimportance to run the model\n",
    "acc, roc_auc,sensitivity,specificity=LOOCV(X,y,xgb.XGBClassifier(eval_metric=\"logloss\"),MinMaxScaler,KNNImputer)\n",
    "print(\"For control vs AD preclinical the accuracy is %.3f and the auc is %.3f\" % (acc, roc_auc))\n",
    "print(\"For control vs AD preclinical the sensitivity is %.3f and the specificity is %.3f\" % (sensitivity, specificity))\n",
    "\n",
    "print(\"-------------------------------------------------------------------------------------------\")\n",
    "\n",
    "#2)Prodromal vs Control \n",
    "#Keeping only the subject in the control(1) and prodromal groups(3)\n",
    "data_model=feat_select.loc[feat_select['biodiag'].isin([1,3])]\n",
    "#Calling the function data_prep to further prepare the dataset:\n",
    "#One hot encodes the group variable (biodiag)\n",
    "#Splits the data into X and y, and turns then into the desired format, an array\n",
    "X,y,coulmnNames=data_prep(data_model)\n",
    "#Call the function featureimportance to run the model\n",
    "acc, roc_auc,sensitivity,specificity=LOOCV(X,y,xgb.XGBClassifier(eval_metric=\"logloss\"),MinMaxScaler,KNNImputer)\n",
    "print(\"For control vs AD prodromal the accuracy is %.3f and the auc is %.3f\" % (acc, roc_auc))\n",
    "print(\"For control vs AD prodromal the sensitivity is %.3f and the specificity is %.3f\" % (sensitivity, specificity))"
   ]
  },
  {
   "cell_type": "markdown",
   "metadata": {},
   "source": [
    "# 9) Hard Voting"
   ]
  },
  {
   "cell_type": "code",
   "execution_count": 31,
   "metadata": {},
   "outputs": [
    {
     "name": "stdout",
     "output_type": "stream",
     "text": [
      "For control vs AD preclinical the accuracy is 0.771 and the auc is 0.547\n",
      "For control vs AD preclinical the sensitivity is 0.120 and the specificity is 0.975\n",
      "-------------------------------------------------------------------------------------------\n",
      "For control vs AD prodromal the accuracy is 0.919 and the auc is 0.894\n",
      "For control vs AD prodromal the sensitivity is 0.975 and the specificity is 0.814\n"
     ]
    }
   ],
   "source": [
    "models = list()\n",
    "models.append(('rf', RandomForestClassifier(random_state=1)))\n",
    "#models.append(('svmlinear', SVC(kernel='linear')))\n",
    "#models.append(('svmpoly', SVC(kernel='poly', degree=2,random_state=1)))\n",
    "#models.append(('svmrbfr', SVC(kernel='rbf',random_state=1)))\n",
    "models.append(('logistic', LogisticRegression(random_state=1)))\n",
    "models.append(('adaboost', AdaBoostClassifier()))\n",
    "    \n",
    "\n",
    "#1)Preclinical vs Control \n",
    "#Keeping only the subject in the control(1) and preclinical groups(2)\n",
    "data_model=feat_select.loc[feat_select['biodiag'].isin([1,2])]\n",
    "#Calling the function data_prep to further prepare the dataset:\n",
    "#One hot encodes the group variable (biodiag)\n",
    "#Splits the data into X and y, and turns then into the desired format, an array\n",
    "X,y,coulmnNames=data_prep(data_model)\n",
    "#Call the function featureimportance to run the model\n",
    "acc, roc_auc,sensitivity,specificity=LOOCV(X,y,VotingClassifier(estimators=models, voting='hard'),MinMaxScaler,KNNImputer)\n",
    "print(\"For control vs AD preclinical the accuracy is %.3f and the auc is %.3f\" % (acc, roc_auc))\n",
    "print(\"For control vs AD preclinical the sensitivity is %.3f and the specificity is %.3f\" % (sensitivity, specificity))\n",
    "\n",
    "print(\"-------------------------------------------------------------------------------------------\")\n",
    "\n",
    "#2)Prodromal vs Control \n",
    "#Keeping only the subject in the control(1) and prodromal groups(3)\n",
    "data_model=feat_select.loc[feat_select['biodiag'].isin([1,3])]\n",
    "#Calling the function data_prep to further prepare the dataset:\n",
    "#One hot encodes the group variable (biodiag)\n",
    "#Splits the data into X and y, and turns then into the desired format, an array\n",
    "X,y,coulmnNames=data_prep(data_model)\n",
    "#Call the function featureimportance to run the model\n",
    "acc, roc_auc,sensitivity,specificity=LOOCV(X,y,VotingClassifier(estimators=models, voting='hard'),MinMaxScaler,KNNImputer)\n",
    "print(\"For control vs AD prodromal the accuracy is %.3f and the auc is %.3f\" % (acc, roc_auc))\n",
    "print(\"For control vs AD prodromal the sensitivity is %.3f and the specificity is %.3f\" % (sensitivity, specificity))"
   ]
  },
  {
   "cell_type": "markdown",
   "metadata": {},
   "source": [
    "# 10) Stacking"
   ]
  },
  {
   "cell_type": "code",
   "execution_count": 32,
   "metadata": {},
   "outputs": [
    {
     "name": "stdout",
     "output_type": "stream",
     "text": [
      "For control vs AD preclinical the accuracy is 0.752 and the auc is 0.576\n",
      "For control vs AD preclinical the sensitivity is 0.240 and the specificity is 0.912\n",
      "-------------------------------------------------------------------------------------------\n",
      "For control vs AD prodromal the accuracy is 0.902 and the auc is 0.882\n",
      "For control vs AD prodromal the sensitivity is 0.950 and the specificity is 0.814\n"
     ]
    }
   ],
   "source": [
    "# Stacking\n",
    "stacking = StackingClassifier(classifiers=[\n",
    "        AdaBoostClassifier(),\n",
    "        LogisticRegression(),\n",
    "        RandomForestClassifier(),\n",
    "        xgb.XGBClassifier(eval_metric=\"logloss\")],\n",
    "        use_probas=True,\n",
    "        meta_classifier=RandomForestClassifier())\n",
    "\n",
    "\n",
    "\n",
    "#1)Preclinical vs Control \n",
    "#Keeping only the subject in the control(1) and preclinical groups(2)\n",
    "data_model=feat_select.loc[feat_select['biodiag'].isin([1,2])]\n",
    "#Calling the function data_prep to further prepare the dataset:\n",
    "#One hot encodes the group variable (biodiag)\n",
    "#Splits the data into X and y, and turns then into the desired format, an array\n",
    "X,y,coulmnNames=data_prep(data_model)\n",
    "#Call the function featureimportance to run the model\n",
    "acc, roc_auc,sensitivity,specificity=LOOCV(X,y,stacking,MinMaxScaler,KNNImputer)\n",
    "print(\"For control vs AD preclinical the accuracy is %.3f and the auc is %.3f\" % (acc, roc_auc))\n",
    "print(\"For control vs AD preclinical the sensitivity is %.3f and the specificity is %.3f\" % (sensitivity, specificity))\n",
    "\n",
    "print(\"-------------------------------------------------------------------------------------------\")\n",
    "\n",
    "#2)Prodromal vs Control \n",
    "#Keeping only the subject in the control(1) and prodromal groups(3)\n",
    "data_model=feat_select.loc[feat_select['biodiag'].isin([1,3])]\n",
    "#Calling the function data_prep to further prepare the dataset:\n",
    "#One hot encodes the group variable (biodiag)\n",
    "#Splits the data into X and y, and turns then into the desired format, an array\n",
    "X,y,coulmnNames=data_prep(data_model)\n",
    "#Call the function featureimportance to run the model\n",
    "acc, roc_auc,sensitivity,specificity=LOOCV(X,y,stacking,MinMaxScaler,KNNImputer)\n",
    "print(\"For control vs AD prodromal the accuracy is %.3f and the auc is %.3f\" % (acc, roc_auc))\n",
    "print(\"For control vs AD prodromal the sensitivity is %.3f and the specificity is %.3f\" % (sensitivity, specificity))"
   ]
  },
  {
   "cell_type": "code",
   "execution_count": 39,
   "metadata": {},
   "outputs": [],
   "source": [
    " #Reading in the dataset\n",
    "data=pd.read_spss(\"FTT.sav\")  \n",
    "\n",
    "#Taking the columns that are needed \n",
    "data_class=data[['groups','P_TAU','AB42','FTT_rate','FTT_variability_total_Log10','age', 'gender','education','AL','AT','RD','RDT','BNT','ANIMALES','VOSP_NUM','TMT_A','TMT_B','STROOP_LECT','STROOP_COLOR','STROOP_INT','SDMT',\"PL_FTT_time_interval\"]]\n",
    "\n",
    "#Renaming the group name to biodiag to match the previous dataset1 and numbering also in the same way\n",
    "data_class = data_class.rename(columns={'groups': 'biodiag'})\n",
    "data_class['biodiag'] = data_class['biodiag'].replace({\"grupo control\":1, \"grupo preclinico\":2, \"grupo con EA\":3})\n",
    "\n",
    "#Turning gender into binary \n",
    "data_class['gender'] = data_class['gender'].replace({\"male\":1, \"female\":0})\n",
    "\n",
    "feat_select=data_class[[\"biodiag\",\"FTT_variability_total_Log10\",\"PL_FTT_time_interval\",\"FTT_rate\"]]"
   ]
  },
  {
   "cell_type": "markdown",
   "metadata": {},
   "source": [
    "# 1) Random Forest\n"
   ]
  },
  {
   "cell_type": "code",
   "execution_count": 41,
   "metadata": {},
   "outputs": [
    {
     "name": "stdout",
     "output_type": "stream",
     "text": [
      "For control vs AD preclinical the accuracy is 0.772 and the auc is 0.721\n",
      "For control vs AD preclinical the sensitivity is 0.550 and the specificity is 0.892\n",
      "-------------------------------------------------------------------------------------------\n",
      "For control vs AD prodromal the accuracy is 0.827 and the auc is 0.740\n",
      "For control vs AD prodromal the sensitivity is 0.533 and the specificity is 0.946\n"
     ]
    }
   ],
   "source": [
    "#1)Preclinical vs Control \n",
    "#Keeping only the subject in the control(1) and preclinical groups(2)\n",
    "data_model=feat_select.loc[feat_select['biodiag'].isin([1,2])]\n",
    "#Calling the function data_prep to further prepare the dataset:\n",
    "#One hot encodes the group variable (biodiag)\n",
    "#Splits the data into X and y, and turns then into the desired format, an array\n",
    "X,y,coulmnNames=data_prep(data_model)\n",
    "#Call the function featureimportance to run the model\n",
    "acc, roc_auc,sensitivity,specificity=LOOCV(X,y,RandomForestClassifier(random_state=1),MinMaxScaler,None)\n",
    "print(\"For control vs AD preclinical the accuracy is %.3f and the auc is %.3f\" % (acc, roc_auc))\n",
    "print(\"For control vs AD preclinical the sensitivity is %.3f and the specificity is %.3f\" % (sensitivity, specificity))\n",
    "\n",
    "print(\"-------------------------------------------------------------------------------------------\")\n",
    "\n",
    "#2)Prodromal vs Control \n",
    "#Keeping only the subject in the control(1) and prodromal groups(3)\n",
    "data_model=feat_select.loc[feat_select['biodiag'].isin([1,3])]\n",
    "#Calling the function data_prep to further prepare the dataset:\n",
    "#One hot encodes the group variable (biodiag)\n",
    "#Splits the data into X and y, and turns then into the desired format, an array\n",
    "X,y,coulmnNames=data_prep(data_model)\n",
    "#Call the function featureimportance to run the model\n",
    "acc, roc_auc,sensitivity,specificity=LOOCV(X,y,RandomForestClassifier(random_state=1),MinMaxScaler,None)\n",
    "print(\"For control vs AD prodromal the accuracy is %.3f and the auc is %.3f\" % (acc, roc_auc))\n",
    "print(\"For control vs AD prodromal the sensitivity is %.3f and the specificity is %.3f\" % (sensitivity, specificity))"
   ]
  },
  {
   "cell_type": "markdown",
   "metadata": {},
   "source": [
    "# 2) Logistic Regression\n"
   ]
  },
  {
   "cell_type": "code",
   "execution_count": 42,
   "metadata": {},
   "outputs": [
    {
     "name": "stdout",
     "output_type": "stream",
     "text": [
      "For control vs AD preclinical the accuracy is 0.684 and the auc is 0.573\n",
      "For control vs AD preclinical the sensitivity is 0.200 and the specificity is 0.946\n",
      "-------------------------------------------------------------------------------------------\n",
      "For control vs AD prodromal the accuracy is 0.769 and the auc is 0.600\n",
      "For control vs AD prodromal the sensitivity is 0.200 and the specificity is 1.000\n"
     ]
    }
   ],
   "source": [
    "#1)Preclinical vs Control \n",
    "#Keeping only the subject in the control(1) and preclinical groups(2)\n",
    "data_model=feat_select.loc[feat_select['biodiag'].isin([1,2])]\n",
    "#Calling the function data_prep to further prepare the dataset:\n",
    "#One hot encodes the group variable (biodiag)\n",
    "#Splits the data into X and y, and turns then into the desired format, an array\n",
    "X,y,coulmnNames=data_prep(data_model)\n",
    "#Call the function featureimportance to run the model\n",
    "acc, roc_auc,sensitivity,specificity=LOOCV(X,y,LogisticRegression(random_state=1),MinMaxScaler,None)\n",
    "print(\"For control vs AD preclinical the accuracy is %.3f and the auc is %.3f\" % (acc, roc_auc))\n",
    "print(\"For control vs AD preclinical the sensitivity is %.3f and the specificity is %.3f\" % (sensitivity, specificity))\n",
    "\n",
    "print(\"-------------------------------------------------------------------------------------------\")\n",
    "\n",
    "#2)Prodromal vs Control \n",
    "#Keeping only the subject in the control(1) and prodromal groups(3)\n",
    "data_model=feat_select.loc[feat_select['biodiag'].isin([1,3])]\n",
    "#Calling the function data_prep to further prepare the dataset:\n",
    "#One hot encodes the group variable (biodiag)\n",
    "#Splits the data into X and y, and turns then into the desired format, an array\n",
    "X,y,coulmnNames=data_prep(data_model)\n",
    "#Call the function featureimportance to run the model\n",
    "acc, roc_auc,sensitivity,specificity=LOOCV(X,y,LogisticRegression(random_state=1),MinMaxScaler,None)\n",
    "print(\"For control vs AD prodromal the accuracy is %.3f and the auc is %.3f\" % (acc, roc_auc))\n",
    "print(\"For control vs AD prodromal the sensitivity is %.3f and the specificity is %.3f\" % (sensitivity, specificity))"
   ]
  },
  {
   "cell_type": "markdown",
   "metadata": {},
   "source": [
    "# 3) Support Vector Machines (Linear)"
   ]
  },
  {
   "cell_type": "code",
   "execution_count": 43,
   "metadata": {},
   "outputs": [
    {
     "name": "stdout",
     "output_type": "stream",
     "text": [
      "For control vs AD preclinical the accuracy is 0.561 and the auc is 0.444\n",
      "For control vs AD preclinical the sensitivity is 0.050 and the specificity is 0.838\n",
      "-------------------------------------------------------------------------------------------\n",
      "For control vs AD prodromal the accuracy is 0.750 and the auc is 0.586\n",
      "For control vs AD prodromal the sensitivity is 0.200 and the specificity is 0.973\n"
     ]
    }
   ],
   "source": [
    "#1)Preclinical vs Control \n",
    "#Keeping only the subject in the control(1) and preclinical groups(2)\n",
    "data_model=feat_select.loc[feat_select['biodiag'].isin([1,2])]\n",
    "#Calling the function data_prep to further prepare the dataset:\n",
    "#One hot encodes the group variable (biodiag)\n",
    "#Splits the data into X and y, and turns then into the desired format, an array\n",
    "X,y,coulmnNames=data_prep(data_model)\n",
    "#Call the function featureimportance to run the model\n",
    "acc, roc_auc,sensitivity,specificity=LOOCV(X,y,SVC(kernel='linear',random_state=1),MinMaxScaler,None)\n",
    "print(\"For control vs AD preclinical the accuracy is %.3f and the auc is %.3f\" % (acc, roc_auc))\n",
    "print(\"For control vs AD preclinical the sensitivity is %.3f and the specificity is %.3f\" % (sensitivity, specificity))\n",
    "\n",
    "print(\"-------------------------------------------------------------------------------------------\")\n",
    "\n",
    "#2)Prodromal vs Control \n",
    "#Keeping only the subject in the control(1) and prodromal groups(3)\n",
    "data_model=feat_select.loc[feat_select['biodiag'].isin([1,3])]\n",
    "#Calling the function data_prep to further prepare the dataset:\n",
    "#One hot encodes the group variable (biodiag)\n",
    "#Splits the data into X and y, and turns then into the desired format, an array\n",
    "X,y,coulmnNames=data_prep(data_model)\n",
    "#Call the function featureimportance to run the model\n",
    "acc, roc_auc,sensitivity,specificity=LOOCV(X,y,SVC(kernel='linear',random_state=1),MinMaxScaler,None)\n",
    "print(\"For control vs AD prodromal the accuracy is %.3f and the auc is %.3f\" % (acc, roc_auc))\n",
    "print(\"For control vs AD prodromal the sensitivity is %.3f and the specificity is %.3f\" % (sensitivity, specificity))\n"
   ]
  },
  {
   "cell_type": "markdown",
   "metadata": {},
   "source": [
    "# 4) Support Vector Machines (Polynomial)"
   ]
  },
  {
   "cell_type": "code",
   "execution_count": 44,
   "metadata": {},
   "outputs": [
    {
     "name": "stdout",
     "output_type": "stream",
     "text": [
      "For control vs AD preclinical the accuracy is 0.719 and the auc is 0.669\n",
      "For control vs AD preclinical the sensitivity is 0.500 and the specificity is 0.838\n",
      "-------------------------------------------------------------------------------------------\n",
      "For control vs AD prodromal the accuracy is 0.808 and the auc is 0.706\n",
      "For control vs AD prodromal the sensitivity is 0.467 and the specificity is 0.946\n"
     ]
    }
   ],
   "source": [
    "#1)Preclinical vs Control \n",
    "#Keeping only the subject in the control(1) and preclinical groups(2)\n",
    "data_model=feat_select.loc[feat_select['biodiag'].isin([1,2])]\n",
    "#Calling the function data_prep to further prepare the dataset:\n",
    "#One hot encodes the group variable (biodiag)\n",
    "#Splits the data into X and y, and turns then into the desired format, an array\n",
    "X,y,coulmnNames=data_prep(data_model)\n",
    "#Call the function featureimportance to run the model\n",
    "acc, roc_auc,sensitivity,specificity=LOOCV(X,y,SVC(kernel='poly',random_state=1),MinMaxScaler,None)\n",
    "print(\"For control vs AD preclinical the accuracy is %.3f and the auc is %.3f\" % (acc, roc_auc))\n",
    "print(\"For control vs AD preclinical the sensitivity is %.3f and the specificity is %.3f\" % (sensitivity, specificity))\n",
    "\n",
    "print(\"-------------------------------------------------------------------------------------------\")\n",
    "\n",
    "#2)Prodromal vs Control \n",
    "#Keeping only the subject in the control(1) and prodromal groups(3)\n",
    "data_model=feat_select.loc[feat_select['biodiag'].isin([1,3])]\n",
    "#Calling the function data_prep to further prepare the dataset:\n",
    "#One hot encodes the group variable (biodiag)\n",
    "#Splits the data into X and y, and turns then into the desired format, an array\n",
    "X,y,coulmnNames=data_prep(data_model)\n",
    "#Call the function featureimportance to run the model\n",
    "acc, roc_auc,sensitivity,specificity=LOOCV(X,y,SVC(kernel='poly',random_state=1),MinMaxScaler,None)\n",
    "print(\"For control vs AD prodromal the accuracy is %.3f and the auc is %.3f\" % (acc, roc_auc))\n",
    "print(\"For control vs AD prodromal the sensitivity is %.3f and the specificity is %.3f\" % (sensitivity, specificity))\n"
   ]
  },
  {
   "cell_type": "markdown",
   "metadata": {},
   "source": [
    "# 5) Support Vector Machines (RBF)"
   ]
  },
  {
   "cell_type": "code",
   "execution_count": 45,
   "metadata": {},
   "outputs": [
    {
     "name": "stdout",
     "output_type": "stream",
     "text": [
      "For control vs AD preclinical the accuracy is 0.772 and the auc is 0.721\n",
      "For control vs AD preclinical the sensitivity is 0.550 and the specificity is 0.892\n",
      "-------------------------------------------------------------------------------------------\n",
      "For control vs AD prodromal the accuracy is 0.846 and the auc is 0.773\n",
      "For control vs AD prodromal the sensitivity is 0.600 and the specificity is 0.946\n"
     ]
    }
   ],
   "source": [
    "#1)Preclinical vs Control \n",
    "#Keeping only the subject in the control(1) and preclinical groups(2)\n",
    "data_model=feat_select.loc[feat_select['biodiag'].isin([1,2])]\n",
    "#Calling the function data_prep to further prepare the dataset:\n",
    "#One hot encodes the group variable (biodiag)\n",
    "#Splits the data into X and y, and turns then into the desired format, an array\n",
    "X,y,coulmnNames=data_prep(data_model)\n",
    "#Call the function featureimportance to run the model\n",
    "acc, roc_auc,sensitivity,specificity=LOOCV(X,y,SVC(kernel='rbf',random_state=1),MinMaxScaler,None)\n",
    "print(\"For control vs AD preclinical the accuracy is %.3f and the auc is %.3f\" % (acc, roc_auc))\n",
    "print(\"For control vs AD preclinical the sensitivity is %.3f and the specificity is %.3f\" % (sensitivity, specificity))\n",
    "\n",
    "print(\"-------------------------------------------------------------------------------------------\")\n",
    "\n",
    "#2)Prodromal vs Control \n",
    "#Keeping only the subject in the control(1) and prodromal groups(3)\n",
    "data_model=feat_select.loc[feat_select['biodiag'].isin([1,3])]\n",
    "#Calling the function data_prep to further prepare the dataset:\n",
    "#One hot encodes the group variable (biodiag)\n",
    "#Splits the data into X and y, and turns then into the desired format, an array\n",
    "X,y,coulmnNames=data_prep(data_model)\n",
    "#Call the function featureimportance to run the model\n",
    "acc, roc_auc,sensitivity,specificity=LOOCV(X,y,SVC(kernel='rbf',random_state=1),MinMaxScaler,None)\n",
    "print(\"For control vs AD prodromal the accuracy is %.3f and the auc is %.3f\" % (acc, roc_auc))\n",
    "print(\"For control vs AD prodromal the sensitivity is %.3f and the specificity is %.3f\" % (sensitivity, specificity))\n"
   ]
  },
  {
   "cell_type": "markdown",
   "metadata": {},
   "source": [
    "# 6) Guassian Naive Bayes"
   ]
  },
  {
   "cell_type": "code",
   "execution_count": 46,
   "metadata": {},
   "outputs": [
    {
     "name": "stdout",
     "output_type": "stream",
     "text": [
      "For control vs AD preclinical the accuracy is 0.667 and the auc is 0.640\n",
      "For control vs AD preclinical the sensitivity is 0.550 and the specificity is 0.730\n",
      "-------------------------------------------------------------------------------------------\n",
      "For control vs AD prodromal the accuracy is 0.808 and the auc is 0.766\n",
      "For control vs AD prodromal the sensitivity is 0.667 and the specificity is 0.865\n"
     ]
    }
   ],
   "source": [
    "#1)Preclinical vs Control \n",
    "#Keeping only the subject in the control(1) and preclinical groups(2)\n",
    "data_model=feat_select.loc[feat_select['biodiag'].isin([1,2])]\n",
    "#Calling the function data_prep to further prepare the dataset:\n",
    "#One hot encodes the group variable (biodiag)\n",
    "#Splits the data into X and y, and turns then into the desired format, an array\n",
    "X,y,coulmnNames=data_prep(data_model)\n",
    "#Call the function featureimportance to run the model\n",
    "acc, roc_auc,sensitivity,specificity=LOOCV(X,y,GaussianNB(),MinMaxScaler,None)\n",
    "print(\"For control vs AD preclinical the accuracy is %.3f and the auc is %.3f\" % (acc, roc_auc))\n",
    "print(\"For control vs AD preclinical the sensitivity is %.3f and the specificity is %.3f\" % (sensitivity, specificity))\n",
    "\n",
    "print(\"-------------------------------------------------------------------------------------------\")\n",
    "\n",
    "#2)Prodromal vs Control \n",
    "#Keeping only the subject in the control(1) and prodromal groups(3)\n",
    "data_model=feat_select.loc[feat_select['biodiag'].isin([1,3])]\n",
    "#Calling the function data_prep to further prepare the dataset:\n",
    "#One hot encodes the group variable (biodiag)\n",
    "#Splits the data into X and y, and turns then into the desired format, an array\n",
    "X,y,coulmnNames=data_prep(data_model)\n",
    "#Call the function featureimportance to run the model\n",
    "acc, roc_auc,sensitivity,specificity=LOOCV(X,y,GaussianNB(),MinMaxScaler,None)\n",
    "print(\"For control vs AD prodromal the accuracy is %.3f and the auc is %.3f\" % (acc, roc_auc))\n",
    "print(\"For control vs AD prodromal the sensitivity is %.3f and the specificity is %.3f\" % (sensitivity, specificity))\n"
   ]
  },
  {
   "cell_type": "markdown",
   "metadata": {},
   "source": [
    "# 7) AdaBoostClassifier"
   ]
  },
  {
   "cell_type": "code",
   "execution_count": 47,
   "metadata": {},
   "outputs": [
    {
     "name": "stdout",
     "output_type": "stream",
     "text": [
      "For control vs AD preclinical the accuracy is 0.649 and the auc is 0.603\n",
      "For control vs AD preclinical the sensitivity is 0.450 and the specificity is 0.757\n",
      "-------------------------------------------------------------------------------------------\n",
      "For control vs AD prodromal the accuracy is 0.827 and the auc is 0.779\n",
      "For control vs AD prodromal the sensitivity is 0.667 and the specificity is 0.892\n"
     ]
    }
   ],
   "source": [
    "#1)Preclinical vs Control \n",
    "#Keeping only the subject in the control(1) and preclinical groups(2)\n",
    "data_model=feat_select.loc[feat_select['biodiag'].isin([1,2])]\n",
    "#Calling the function data_prep to further prepare the dataset:\n",
    "#One hot encodes the group variable (biodiag)\n",
    "#Splits the data into X and y, and turns then into the desired format, an array\n",
    "X,y,coulmnNames=data_prep(data_model)\n",
    "#Call the function featureimportance to run the model\n",
    "acc, roc_auc,sensitivity,specificity=LOOCV(X,y,AdaBoostClassifier(),MinMaxScaler,None)\n",
    "print(\"For control vs AD preclinical the accuracy is %.3f and the auc is %.3f\" % (acc, roc_auc))\n",
    "print(\"For control vs AD preclinical the sensitivity is %.3f and the specificity is %.3f\" % (sensitivity, specificity))\n",
    "\n",
    "print(\"-------------------------------------------------------------------------------------------\")\n",
    "\n",
    "#2)Prodromal vs Control \n",
    "#Keeping only the subject in the control(1) and prodromal groups(3)\n",
    "data_model=feat_select.loc[feat_select['biodiag'].isin([1,3])]\n",
    "#Calling the function data_prep to further prepare the dataset:\n",
    "#One hot encodes the group variable (biodiag)\n",
    "#Splits the data into X and y, and turns then into the desired format, an array\n",
    "X,y,coulmnNames=data_prep(data_model)\n",
    "#Call the function featureimportance to run the model\n",
    "acc, roc_auc,sensitivity,specificity=LOOCV(X,y,AdaBoostClassifier(random_state=0),MinMaxScaler,None)\n",
    "print(\"For control vs AD prodromal the accuracy is %.3f and the auc is %.3f\" % (acc, roc_auc))\n",
    "print(\"For control vs AD prodromal the sensitivity is %.3f and the specificity is %.3f\" % (sensitivity, specificity))\n"
   ]
  },
  {
   "cell_type": "markdown",
   "metadata": {},
   "source": [
    "# 8) XGBoost"
   ]
  },
  {
   "cell_type": "code",
   "execution_count": 48,
   "metadata": {},
   "outputs": [
    {
     "name": "stdout",
     "output_type": "stream",
     "text": [
      "For control vs AD preclinical the accuracy is 0.737 and the auc is 0.682\n",
      "For control vs AD preclinical the sensitivity is 0.500 and the specificity is 0.865\n",
      "-------------------------------------------------------------------------------------------\n",
      "For control vs AD prodromal the accuracy is 0.846 and the auc is 0.793\n",
      "For control vs AD prodromal the sensitivity is 0.667 and the specificity is 0.919\n"
     ]
    }
   ],
   "source": [
    "#1)Preclinical vs Control \n",
    "#Keeping only the subject in the control(1) and preclinical groups(2)\n",
    "data_model=feat_select.loc[feat_select['biodiag'].isin([1,2])]\n",
    "#Calling the function data_prep to further prepare the dataset:\n",
    "#One hot encodes the group variable (biodiag)\n",
    "#Splits the data into X and y, and turns then into the desired format, an array\n",
    "X,y,coulmnNames=data_prep(data_model)\n",
    "#Call the function featureimportance to run the model\n",
    "acc, roc_auc,sensitivity,specificity=LOOCV(X,y,xgb.XGBClassifier(eval_metric=\"logloss\",random_state=1),MinMaxScaler,None)\n",
    "print(\"For control vs AD preclinical the accuracy is %.3f and the auc is %.3f\" % (acc, roc_auc))\n",
    "print(\"For control vs AD preclinical the sensitivity is %.3f and the specificity is %.3f\" % (sensitivity, specificity))\n",
    "\n",
    "print(\"-------------------------------------------------------------------------------------------\")\n",
    "\n",
    "#2)Prodromal vs Control \n",
    "#Keeping only the subject in the control(1) and prodromal groups(3)\n",
    "data_model=feat_select.loc[feat_select['biodiag'].isin([1,3])]\n",
    "#Calling the function data_prep to further prepare the dataset:\n",
    "#One hot encodes the group variable (biodiag)\n",
    "#Splits the data into X and y, and turns then into the desired format, an array\n",
    "X,y,coulmnNames=data_prep(data_model)\n",
    "#Call the function featureimportance to run the model\n",
    "acc, roc_auc,sensitivity,specificity=LOOCV(X,y,xgb.XGBClassifier(eval_metric=\"logloss\",random_state=1),MinMaxScaler,None)\n",
    "print(\"For control vs AD prodromal the accuracy is %.3f and the auc is %.3f\" % (acc, roc_auc))\n",
    "print(\"For control vs AD prodromal the sensitivity is %.3f and the specificity is %.3f\" % (sensitivity, specificity))"
   ]
  },
  {
   "cell_type": "markdown",
   "metadata": {},
   "source": [
    "# 9) Hard Voting"
   ]
  },
  {
   "cell_type": "code",
   "execution_count": 49,
   "metadata": {},
   "outputs": [
    {
     "name": "stdout",
     "output_type": "stream",
     "text": [
      "For control vs AD preclinical the accuracy is 0.719 and the auc is 0.646\n",
      "For control vs AD preclinical the sensitivity is 0.400 and the specificity is 0.892\n",
      "-------------------------------------------------------------------------------------------\n",
      "For control vs AD prodromal the accuracy is 0.827 and the auc is 0.740\n",
      "For control vs AD prodromal the sensitivity is 0.533 and the specificity is 0.946\n"
     ]
    }
   ],
   "source": [
    "models = list()\n",
    "models.append(('rf', RandomForestClassifier(random_state=1)))\n",
    "#models.append(('svmlinear', SVC(kernel='linear')))\n",
    "#models.append(('svmpoly', SVC(kernel='poly', degree=2,random_state=1)))\n",
    "#models.append(('svmrbfr', SVC(kernel='rbf',random_state=1)))\n",
    "models.append(('logistic', LogisticRegression(random_state=1)))\n",
    "models.append(('adaboost', AdaBoostClassifier()))\n",
    "    \n",
    "\n",
    "#1)Preclinical vs Control \n",
    "#Keeping only the subject in the control(1) and preclinical groups(2)\n",
    "data_model=feat_select.loc[feat_select['biodiag'].isin([1,2])]\n",
    "#Calling the function data_prep to further prepare the dataset:\n",
    "#One hot encodes the group variable (biodiag)\n",
    "#Splits the data into X and y, and turns then into the desired format, an array\n",
    "X,y,coulmnNames=data_prep(data_model)\n",
    "#Call the function featureimportance to run the model\n",
    "acc, roc_auc,sensitivity,specificity=LOOCV(X,y,VotingClassifier(estimators=models, voting='hard'),MinMaxScaler,None)\n",
    "print(\"For control vs AD preclinical the accuracy is %.3f and the auc is %.3f\" % (acc, roc_auc))\n",
    "print(\"For control vs AD preclinical the sensitivity is %.3f and the specificity is %.3f\" % (sensitivity, specificity))\n",
    "\n",
    "print(\"-------------------------------------------------------------------------------------------\")\n",
    "\n",
    "#2)Prodromal vs Control \n",
    "#Keeping only the subject in the control(1) and prodromal groups(3)\n",
    "data_model=feat_select.loc[feat_select['biodiag'].isin([1,3])]\n",
    "#Calling the function data_prep to further prepare the dataset:\n",
    "#One hot encodes the group variable (biodiag)\n",
    "#Splits the data into X and y, and turns then into the desired format, an array\n",
    "X,y,coulmnNames=data_prep(data_model)\n",
    "#Call the function featureimportance to run the model\n",
    "acc, roc_auc,sensitivity,specificity=LOOCV(X,y,VotingClassifier(estimators=models, voting='hard'),MinMaxScaler,None)\n",
    "print(\"For control vs AD prodromal the accuracy is %.3f and the auc is %.3f\" % (acc, roc_auc))\n",
    "print(\"For control vs AD prodromal the sensitivity is %.3f and the specificity is %.3f\" % (sensitivity, specificity))"
   ]
  },
  {
   "cell_type": "markdown",
   "metadata": {},
   "source": [
    "# 10) Stacking"
   ]
  },
  {
   "cell_type": "code",
   "execution_count": 51,
   "metadata": {},
   "outputs": [
    {
     "name": "stdout",
     "output_type": "stream",
     "text": [
      "For control vs AD preclinical the accuracy is 0.737 and the auc is 0.694\n",
      "For control vs AD preclinical the sensitivity is 0.550 and the specificity is 0.838\n",
      "-------------------------------------------------------------------------------------------\n",
      "For control vs AD prodromal the accuracy is 0.846 and the auc is 0.793\n",
      "For control vs AD prodromal the sensitivity is 0.667 and the specificity is 0.919\n"
     ]
    }
   ],
   "source": [
    "# Stacking\n",
    "stacking = StackingClassifier(classifiers=[\n",
    "        AdaBoostClassifier(),\n",
    "        LogisticRegression(),\n",
    "        RandomForestClassifier(),\n",
    "        xgb.XGBClassifier(eval_metric=\"logloss\")],\n",
    "        use_probas=True,\n",
    "        meta_classifier=RandomForestClassifier())\n",
    "\n",
    "\n",
    "\n",
    "#1)Preclinical vs Control \n",
    "#Keeping only the subject in the control(1) and preclinical groups(2)\n",
    "data_model=feat_select.loc[feat_select['biodiag'].isin([1,2])]\n",
    "#Calling the function data_prep to further prepare the dataset:\n",
    "#One hot encodes the group variable (biodiag)\n",
    "#Splits the data into X and y, and turns then into the desired format, an array\n",
    "X,y,coulmnNames=data_prep(data_model)\n",
    "#Call the function featureimportance to run the model\n",
    "acc, roc_auc,sensitivity,specificity=LOOCV(X,y,stacking,MinMaxScaler,KNNImputer)\n",
    "print(\"For control vs AD preclinical the accuracy is %.3f and the auc is %.3f\" % (acc, roc_auc))\n",
    "print(\"For control vs AD preclinical the sensitivity is %.3f and the specificity is %.3f\" % (sensitivity, specificity))\n",
    "\n",
    "print(\"-------------------------------------------------------------------------------------------\")\n",
    "\n",
    "#2)Prodromal vs Control \n",
    "#Keeping only the subject in the control(1) and prodromal groups(3)\n",
    "data_model=feat_select.loc[feat_select['biodiag'].isin([1,3])]\n",
    "#Calling the function data_prep to further prepare the dataset:\n",
    "#One hot encodes the group variable (biodiag)\n",
    "#Splits the data into X and y, and turns then into the desired format, an array\n",
    "X,y,coulmnNames=data_prep(data_model)\n",
    "#Call the function featureimportance to run the model\n",
    "acc, roc_auc,sensitivity,specificity=LOOCV(X,y,stacking,MinMaxScaler,KNNImputer)\n",
    "print(\"For control vs AD prodromal the accuracy is %.3f and the auc is %.3f\" % (acc, roc_auc))\n",
    "print(\"For control vs AD prodromal the sensitivity is %.3f and the specificity is %.3f\" % (sensitivity, specificity))"
   ]
  },
  {
   "cell_type": "code",
   "execution_count": null,
   "metadata": {},
   "outputs": [],
   "source": []
  }
 ],
 "metadata": {
  "kernelspec": {
   "display_name": "Python 3",
   "language": "python",
   "name": "python3"
  },
  "language_info": {
   "codemirror_mode": {
    "name": "ipython",
    "version": 3
   },
   "file_extension": ".py",
   "mimetype": "text/x-python",
   "name": "python",
   "nbconvert_exporter": "python",
   "pygments_lexer": "ipython3",
   "version": "3.8.5"
  }
 },
 "nbformat": 4,
 "nbformat_minor": 4
}
